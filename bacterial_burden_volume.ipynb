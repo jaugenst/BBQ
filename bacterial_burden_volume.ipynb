{
 "cells": [
  {
   "cell_type": "markdown",
   "id": "8f3d454f-1f23-4ae6-8e3f-8811782d037f",
   "metadata": {
    "tags": []
   },
   "source": [
    "## Libraries and modules"
   ]
  },
  {
   "cell_type": "code",
   "execution_count": 1,
   "id": "12e86660-0c8e-4792-bccb-7f41505330d6",
   "metadata": {},
   "outputs": [],
   "source": [
    "from cellpose import models, io\n",
    "from cellpose.io import *\n",
    "from collections import defaultdict\n",
    "import geopandas\n",
    "import glob\n",
    "import imagej\n",
    "from jpype import JArray, JInt\n",
    "import matplotlib.pyplot as plt\n",
    "import multiprocessing as mp\n",
    "import numpy as np\n",
    "import os\n",
    "import re\n",
    "import pandas\n",
    "from pandas import DataFrame\n",
    "from pathlib import Path\n",
    "import scyjava\n",
    "import seaborn\n",
    "import shutil\n",
    "import tkinter as tk\n",
    "from tkinter import filedialog\n",
    "from PIL import Image"
   ]
  },
  {
   "cell_type": "markdown",
   "id": "ca1cfe75-e694-443b-a4d7-a3c7e92f1231",
   "metadata": {},
   "source": [
    "## Initialization of ImageJ"
   ]
  },
  {
   "cell_type": "code",
   "execution_count": null,
   "id": "0e38c9f9-377c-4313-a68c-7bb4732d02d6",
   "metadata": {},
   "outputs": [],
   "source": [
    "scyjava.config.add_option('-Xmx30g')\n",
    "start_dir = os.getcwd()\n",
    "#ij = imagej.init('sc.fiji:fiji', mode='interactive')\n",
    "ij = imagej.init('/home/saka/sw/local/fiji/2023', mode='interactive')\n",
    "## Something about this init() function changes the current working directory.\n",
    "ij.getApp().getInfo(True)\n",
    "ij.ui().showUI()\n",
    "os.chdir(start_dir)\n",
    "ij.getVersion() #This is to make sure ImageJ/Fiji opened properly. In case of error, it could display '2.9.0/inactive' instead of the full version n"
   ]
  },
  {
   "cell_type": "markdown",
   "id": "c6ac3f82-7461-438e-be23-24a50b3679f8",
   "metadata": {},
   "source": [
    "## Import of fiji plugins\n",
    "This import the ROI manager and associated useful libraries, and z-projector modules."
   ]
  },
  {
   "cell_type": "code",
   "execution_count": null,
   "id": "59723a1b-7de3-43fb-8bda-fc410b4af030",
   "metadata": {},
   "outputs": [],
   "source": [
    "showPolygonRoi = scyjava.jimport('ij.gui.PolygonRoi')\n",
    "Overlay = scyjava.jimport('ij.gui.Overlay')\n",
    "Regions = scyjava.jimport('net.imglib2.roi.Regions')\n",
    "LabelRegions = scyjava.jimport('net.imglib2.roi.labeling.LabelRegions')\n",
    "ZProjector = scyjava.jimport('ij.plugin.ZProjector')()\n",
    "ov = Overlay()"
   ]
  },
  {
   "cell_type": "markdown",
   "id": "345b0554-bf7d-40a4-9f9e-8ee0ddd051b8",
   "metadata": {},
   "source": [
    "## Assignement of parent folder that contains all the subfolders of all your conditions\n",
    "This opens a dialog window whare you choose the parent folder"
   ]
  },
  {
   "cell_type": "code",
   "execution_count": 23,
   "id": "4fbe9624-6005-44c9-b7f5-be71b5e76466",
   "metadata": {},
   "outputs": [],
   "source": [
    "root = tk.Tk()\n",
    "root.withdraw()\n",
    "directory_path = filedialog.askdirectory()"
   ]
  },
  {
   "cell_type": "markdown",
   "id": "5221110d-6390-4d6c-93dc-cb2180551be9",
   "metadata": {
    "tags": []
   },
   "source": [
    "## generation of the smoothed z-projection \"max\" of the nuclei channel"
   ]
  },
  {
   "cell_type": "code",
   "execution_count": null,
   "id": "3d740c9e-45e8-4745-848b-8bc638889e27",
   "metadata": {},
   "outputs": [],
   "source": [
    "# Z-projection method. Can be change to 'sum' or other as needed. \n",
    "method = 'max'\n",
    "\n",
    "# Get a list of all the folders in the directory\n",
    "folder_list = os.listdir(directory_path)\n",
    "\n",
    "# Iterate over the folders and process each folder\n",
    "for folder in folder_list:\n",
    "    # Get the path to the folder\n",
    "    folder_path = os.path.join(directory_path, folder)\n",
    "\n",
    "    # Find all the czi files in the folder\n",
    "    file_pattern = os.path.join(folder_path, \"*.czi\")\n",
    "    file_list = glob.glob(file_pattern)\n",
    "\n",
    "    # Iterate through the files and apply the image analysis workflow to each image\n",
    "    for file_path in file_list:\n",
    "        image = ij.io().open(file_path) # opening the image\n",
    "        wanted_channel = 0\n",
    "        blue_channel = image[:, :, wanted_channel,:]\n",
    "\n",
    "        # Cellpose segmentation for nuclei worked better with a smoothed nuclear signal, specially with low signal. Smoothing workflow :\n",
    "        sigma = 1.5  # Adjust the value of sigma as needed\n",
    "        smoothed_image = ij.op().run(\"smooth\", blue_channel, sigma)\n",
    "        imp = ij.py.to_imageplus(smoothed_image) # convert the image into the imageplus type object needed for z-projection\n",
    "\n",
    "        # Z-projection\n",
    "        z_projector_result = ZProjector.run(imp, method)\n",
    "        z_collapsed_image = ij.py.from_java(z_projector_result)\n",
    "        z_collapsed_dataset = ij.py.to_dataset(z_collapsed_image)  \n",
    "\n",
    "        # Save as a TIFF image\n",
    "        result_path = os.path.splitext(file_path)[0] + \"_blue.tif\"\n",
    "        ij.io().save(z_collapsed_dataset, result_path)\n",
    "        print(f\"Saving image {result_path}.\")"
   ]
  },
  {
   "cell_type": "code",
   "execution_count": null,
   "id": "9b6c7c43-ffe2-41cc-ac30-b890be0b8fb7",
   "metadata": {},
   "outputs": [],
   "source": [
    "# Get a list of all the folders in the directory\n",
    "folder_list = os.listdir(directory_path)\n",
    "for folder in folder_list:\n",
    "    # Get the path to the folder\n",
    "    folder_path = os.path.join(directory_path, folder)\n",
    "    # Find all the \".czi\" files in the folder\n",
    "    file_pattern = os.path.join(folder_path, \"*_1airy_1um.czi\")\n",
    "    file_list = glob.glob(file_pattern)\n",
    "    for file_path in file_list:\n",
    "        image = ij.io().open(file_path)\n",
    "        wanted_channel = 1\n",
    "        wanted_z = 2\n",
    "        wanted_image = image[:, :, wanted_channel, wanted_z]\n",
    "        result_path = os.path.splitext(file_path)[0] + \"-1.tif\"\n",
    "        cellpose_image = ij.py.to_dataset(wanted_image)\n",
    "        ij.io().save(cellpose_image, result_path)\n",
    "        print(f\"Saving image {result_path}.\")"
   ]
  },
  {
   "cell_type": "markdown",
   "id": "d18bcc9b-76de-44d8-926d-00e583b7e4ac",
   "metadata": {
    "tags": []
   },
   "source": [
    "## Segmentation and detection of nuclei using Cellpose\n",
    "For the training of your own model, please follow the training instruction of cellpose GUI, or the youtube tutorial : https://www.youtube.com/watch?v=5qANHWoubZU\n",
    "\n",
    "Here the model is called \"raw\" and was obtained from training on the nuclear channel of raw cells. Segmentation results should be manually verified first any time a new cell type is used to ensure the pre-trained or newly trained models are behaving similarly.\n",
    "\n",
    "NB: \"gpu=True\" requires having installed the proper libraries. Please look at Cellpose documentation."
   ]
  },
  {
   "cell_type": "code",
   "execution_count": null,
   "id": "810113a8-5c7f-4c4b-809c-bc4bdccfae7f",
   "metadata": {},
   "outputs": [],
   "source": [
    "model = models.CellposeModel(gpu=True, model_type='Raw_63x') #change model_type as needed\n",
    "files = get_image_files(directory_path, '_masks', look_one_level_down=True)\n",
    "imgs = [imread(f) for f in files]\n",
    "nimg = len(imgs)\n",
    "channels = [[0,0]]\n",
    "masks, flows, styles = model.eval(imgs, diameter=None, channels=channels)\n",
    "io.save_to_png(imgs, masks, flows, files)"
   ]
  },
  {
   "cell_type": "markdown",
   "id": "70073620-2064-4a01-b538-0a18ece2d10e",
   "metadata": {
    "tags": []
   },
   "source": [
    "### Alternative way of using cellpose, example of segmenting only the images whose path ends by \"_blue.tif\". "
   ]
  },
  {
   "cell_type": "code",
   "execution_count": null,
   "id": "766632e4-d9d0-4432-a0d4-a4132048e43d",
   "metadata": {},
   "outputs": [],
   "source": [
    "#for folder in folder_list:\n",
    "    # Get the path to the folder\n",
    "#    folder_path = os.path.join(directory_path, folder)\n",
    "#    file_pattern = os.path.join(folder_path, \"_blue.tif\")\n",
    "#    file_list = glob.glob(file_pattern)\n",
    "#    model = models.CellposeModel(gpu=True, model_type='sty_fluo_low_8')\n",
    "#    for file_path in file_list:\n",
    "#        imgs = io.imread(file_path)\n",
    "#        channels = [[0,0]]\n",
    "#        masks, flows, styles = model.eval(imgs, diameter=None, channels=channels)\n",
    "#        io.save_to_png(imgs, masks, flows, file_path)"
   ]
  },
  {
   "cell_type": "markdown",
   "id": "73ad9217-beea-4c97-b7c1-6450b75e082d",
   "metadata": {},
   "source": [
    "## Generation of the smooted bacterial channel"
   ]
  },
  {
   "cell_type": "code",
   "execution_count": null,
   "id": "01d32315-c123-44f9-bd0d-396f30cb5595",
   "metadata": {},
   "outputs": [],
   "source": [
    "folder_list = os.listdir(directory_path)\n",
    "for folder in folder_list:\n",
    "    folder_path = os.path.join(directory_path, folder)\n",
    "    file_pattern = os.path.join(folder_path, \"*.czi\")\n",
    "    file_list = glob.glob(file_pattern)\n",
    "    for file_path in file_list:\n",
    "        image = ij.io().open(file_path)\n",
    "        wanted_channel = 1\n",
    "        wanted_image = image[:, :, wanted_channel, :]\n",
    "\n",
    "        sigma = 0.7  # Adjust the value of sigma as needed\n",
    "        smoothed_image = ij.op().run(\"smooth\", wanted_image, sigma)\n",
    "        imp = ij.py.to_imageplus(smoothed_image)\n",
    "\n",
    "        result_path = os.path.splitext(file_path)[0] + \"_bact.tif\"\n",
    "        bacteria_image = ij.py.to_dataset(smoothed_image)\n",
    "        ij.io().save(bacteria_image, result_path)\n",
    "        print(f\"Saving image {result_path}.\")"
   ]
  },
  {
   "cell_type": "code",
   "execution_count": null,
   "id": "99d61a2a-9121-4e77-83ac-3e0c5bd2593e",
   "metadata": {},
   "outputs": [],
   "source": [
    "folder_list = os.listdir(directory_path)\n",
    "for folder in folder_list:\n",
    "    folder_path = os.path.join(directory_path, folder)\n",
    "    file_pattern = os.path.join(folder_path, \"*.czi\")\n",
    "    file_list = glob.glob(file_pattern)\n",
    "    for file_path in file_list:\n",
    "        image = ij.io().open(file_path)\n",
    "        wanted_channel = 2\n",
    "        wanted_image = image[:, :, wanted_channel, :]\n",
    "        ij.ui().show(wanted_image)\n",
    "        pretreatment = \"\"\"\n",
    "        run(\"Duplicate...\", \"duplicate\");\n",
    "        run(\"Smooth\", \"stack\");\n",
    "        run(\"Smooth\", \"stack\");\n",
    "        \"\"\"\n",
    "        smoothed = ij.py.run_macro(pretreatment)\n",
    "        smoothed_image = ij.py.from_java(\"-1\")\n",
    "        result_path = os.path.splitext(file_path)[0] + \"_bact.tif\"\n",
    "        format = f'Tiff'\n",
    "        set_string = f'saveAs(\"{format}\", \"{result_path}\")'\n",
    "        ij.py.run_macro(set_string)\n",
    "        ij.py.run_macro(\"close();\")\n",
    "        ij.py.run_macro(\"close();\")"
   ]
  },
  {
   "cell_type": "markdown",
   "id": "42970476-ab54-4184-8817-86696041ee6b",
   "metadata": {
    "tags": []
   },
   "source": [
    "## Voronoi segmentation on the nuclei channel\n",
    "This part will open the nuclear channel generated earlier with the associated text file. It then run the voronoi segmentation and save the newly created ROI set."
   ]
  },
  {
   "cell_type": "code",
   "execution_count": null,
   "id": "76c4b44b-d153-4881-9e18-bd08f8f53994",
   "metadata": {},
   "outputs": [],
   "source": [
    "folder_list = os.listdir(directory_path)\n",
    "rm = ij.RoiManager.getRoiManager()\n",
    "\n",
    "# Iterate over the folders and process each folder\n",
    "for folder in folder_list:\n",
    "    # Get the path to the folder\n",
    "    folder_path = os.path.join(directory_path, folder)\n",
    "\n",
    "    # Find all the z-projected nuclear files in the folder\n",
    "    file_pattern = os.path.join(folder_path, \"*_blue.tif\")\n",
    "    file_list = glob.glob(file_pattern)\n",
    "\n",
    "\n",
    "\n",
    "    for file_path in file_list:\n",
    "        image = ij.io().open(file_path)\n",
    "        f_name = os.path.basename(file_path)\n",
    "        f_name = os.path.splitext(f_name)[0]\n",
    "        input_txt = Path(f\"{folder_path}/{f_name}_cp_outlines.txt\") # opening the corresponding text file to the opened image, from the cellpose output\n",
    "        txt_fh = open(input_txt, 'r')\n",
    "        set_string = f'Set Measurements...'\n",
    "        measure_string = f'centroid redirect=None decimal=1'\n",
    "        ij.IJ.run(set_string, measure_string)\n",
    "        roi_stats = defaultdict(list)\n",
    "        ij.ui().show(image) #to better draw, apply and save ROIs, the image should be displayed\n",
    "        imp = ij.py.to_imageplus(image) \n",
    "        #Call of .txt cellpose output file and draw ROIs based on segmentation result, and add them in the ROI manager\n",
    "        for line in txt_fh:\n",
    "            xy = line.rstrip().split(\",\")\n",
    "            xy_coords = [int(element) for element in xy]\n",
    "            x_coords = [int(element) for element in xy[::2]]\n",
    "            y_coords = [int(element) for element in xy[1::2]]\n",
    "            xcoords_jint = JArray(JInt)(x_coords)\n",
    "            ycoords_jint = JArray(JInt)(y_coords)\n",
    "            polygon_roi_instance = scyjava.jimport('ij.gui.PolygonRoi')\n",
    "            roi_instance = scyjava.jimport('ij.gui.Roi')\n",
    "            imported_polygon = polygon_roi_instance(xcoords_jint, ycoords_jint, len(x_coords), int(roi_instance.POLYGON))\n",
    "            imp.setRoi(imported_polygon)\n",
    "            rm.addRoi(imported_polygon)\n",
    "\n",
    "# The following Macro will first duplicate the opened image, select the nuclear ROIs and reduce them by 1 pixel.\n",
    "# This is because the function \"Analyze Particles...\" in ImageJ cannot detect 2 objects separated by 1 pixel.\n",
    "# All of the ROIs are then selected, filled, and the background remove using \"clear outside\".\n",
    "# The resulting image was converted in a binary mask. Particles were detected to collect x,y coordinates and Voronoi segmentation applied. \n",
    "# x,y coordinates of objects used as coordinates to apply the magic wand in the Voronoi mesh and create ROIs. \n",
    "# The ROI set is saved matching the name of the opened file.\n",
    "\n",
    "\n",
    "        Macro_voronoi = \"\"\"\n",
    "    nbArea=roiManager(\"count\")\n",
    "for (i=0; i<nbArea; i++) {\n",
    "\t\troiManager(\"Select\", i);\n",
    "\t\trun(\"Enlarge...\", \"enlarge=-1 pixel\");\n",
    "\t\troiManager(\"update\");\t\n",
    "\t}\n",
    "\n",
    "array1 = newArray(\"0\");;\n",
    "for (i=1;i<roiManager(\"count\");i++){\n",
    "        array1 = Array.concat(array1,i);\n",
    "}\n",
    "\troiManager(\"select\", array1);\n",
    "\troiManager(\"XOR\");\n",
    "\troiManager(\"Fill\");\n",
    "\troiManager(\"select\", array1);\n",
    "\troiManager(\"XOR\");\n",
    "\trun(\"Clear Outside\");\n",
    "\troiManager(\"Delete\")\n",
    "setThreshold(255, 255);\n",
    "run(\"Convert to Mask\", \"method=Default background=Dark black\");\n",
    "\n",
    "//Voronoi ROI generations\n",
    "\n",
    "run(\"Set Measurements...\", \"center redirect=None decimal=1\");\n",
    "\trun(\"Analyze Particles...\",\"size=3-Infinity display clear\");\n",
    "\t//Resolution de l'image pwidth et pheight\n",
    "\tgetPixelSize(unit, pw, ph, pd);\n",
    "\t//Voronio\n",
    "\trun(\"Voronoi\");\n",
    "\tsetThreshold(0, 0,\"black & white\");\n",
    "\t\n",
    "\t//Wand to ROI Manager\n",
    "\tx=newArray(nResults);\n",
    "\ty=newArray(nResults);\n",
    "\tnbPoints=nResults;\n",
    "\t\n",
    "\tfor (i=0; i<nbPoints; i++) {\n",
    "\t\tx[i]=getResult(\"XM\",i)/pw;\n",
    "\t\ty[i]=getResult(\"YM\",i)/ph;\n",
    "\t}\n",
    "\tfor (i=0; i<nbPoints; i++) {\n",
    "\t\tdoWand(x[i], y[i], 156.0, \"Legacy\");\n",
    "\t\troiManager(\"Add\");\n",
    "\t}\n",
    "\n",
    "\t//Center of mass\n",
    "\t/*\n",
    "\tx=newArray(nResults);\n",
    "\ty=newArray(nResults);\n",
    "\tfor (i=0; i<nResults; i++) {\n",
    "\t\tx[i]=getResult(\"XM\",i)/pw;\n",
    "\t\ty[i]=getResult(\"YM\",i)/ph;\n",
    "\t}\n",
    "\t*/\n",
    "\tmakeSelection(\"point\", x, y);\n",
    "    selectWindow(\"Results\");\n",
    "    run(\"Close\");\n",
    "    close(\"*\");\n",
    "    \"\"\"\n",
    "        ij.py.run_macro(Macro_voronoi)   \n",
    "        rm.runCommand(\"Select All\")\n",
    "        rm.runCommand(\"Save\", f\"{folder_path}/\" + f\"{f_name}.zip\") # this saves the ROIs as a zip file\n",
    "        rm.runCommand(\"Delete\")"
   ]
  },
  {
   "cell_type": "markdown",
   "id": "26040fe1-154f-4be3-95a0-3784ce263abb",
   "metadata": {},
   "source": [
    "This part renames the Roi sets to match the name the \"bact\" file called for the quantification"
   ]
  },
  {
   "cell_type": "code",
   "execution_count": null,
   "id": "539ae778-f372-445f-bcb0-73a408c7fde4",
   "metadata": {},
   "outputs": [],
   "source": [
    "folder_list = os.listdir(directory_path)\n",
    "# Iterate over the folders and process each folder\n",
    "for folder in folder_list:\n",
    "    # Get the path to the folder\n",
    "    folder_path = os.path.join(directory_path, folder)\n",
    "    file_prefix = \"Experiment-\"  # Specify the common prefix of the files. Change it as your basic file is formatted.\n",
    "\n",
    "# Regular expression pattern to match the number in the filename\n",
    "    pattern = re.compile(rf\"{file_prefix}(\\d+)_blue\\.zip\", re.IGNORECASE)\n",
    "\n",
    "# Iterate over the files in the folder\n",
    "    for filename in os.listdir(folder_path):\n",
    "    # Check if the file matches the desired pattern\n",
    "        match = pattern.match(filename)\n",
    "        if match:\n",
    "        # Extract the number from the filename\n",
    "            current_number = int(match.group(1))\n",
    "        # Construct the new filename with the updated number\n",
    "            new_filename = f\"{file_prefix}{current_number}_bact.zip\"\n",
    "        # Create the full file paths for the old and new filenames\n",
    "            old_filepath = os.path.join(folder_path, filename)\n",
    "            new_filepath = os.path.join(folder_path, new_filename)\n",
    "        # Rename the file\n",
    "            os.rename(old_filepath, new_filepath)\n",
    "            print(f\"Renamed file: {filename} -> {new_filename}\")"
   ]
  },
  {
   "cell_type": "markdown",
   "id": "c5cd198a-c51b-4b56-ab90-eee9576f75b7",
   "metadata": {},
   "source": [
    "The next cell is in case of use of cellpose for segmentation of cells. "
   ]
  },
  {
   "cell_type": "code",
   "execution_count": null,
   "id": "033dc921-997a-40f4-b938-b2a7e3a1c2f9",
   "metadata": {},
   "outputs": [],
   "source": [
    "rm = ij.RoiManager.getRoiManager()\n",
    "folder_list = os.listdir(directory_path)\n",
    "for folder in folder_list:\n",
    "    # Get the path to the folder\n",
    "    folder_path = os.path.join(directory_path, folder)\n",
    "    file_pattern = os.path.join(folder_path, \"*-1.tif\")\n",
    "    file_list = glob.glob(file_pattern)\n",
    "    for file_path in file_list:\n",
    "        image_red = ij.io().open(file_path)\n",
    "        imp = ij.py.to_imageplus(image_red)\n",
    "        f_name = os.path.basename(file_path)\n",
    "        f_name = os.path.splitext(f_name)[0]\n",
    "        input_txt = Path(f\"{folder_path}/{f_name}_cp_outlines.txt\")\n",
    "        txt_fh = open(input_txt, 'r')\n",
    "        for line in txt_fh:\n",
    "            xy = line.rstrip().split(\",\")\n",
    "            xy_coords = [int(element) for element in xy if element not in '']\n",
    "            x_coords = [int(element) for element in xy[::2] if element not in '']\n",
    "            y_coords = [int(element) for element in xy[1::2] if element not in '']\n",
    "            xcoords_jint = JArray(JInt)(x_coords)\n",
    "            ycoords_jint = JArray(JInt)(y_coords)\n",
    "            polygon_roi_instance = scyjava.jimport('ij.gui.PolygonRoi')\n",
    "            roi_instance = scyjava.jimport('ij.gui.Roi')\n",
    "            imported_polygon = polygon_roi_instance(xcoords_jint, ycoords_jint, len(x_coords), int(roi_instance.POLYGON))\n",
    "            imp.setRoi(imported_polygon)\n",
    "            rm.addRoi(imported_polygon)\n",
    "        ij.py.run_macro(\"roiManager('Select All');\")\n",
    "        rm.runCommand(\"Save\", f\"{folder_path}/\" + f\"{f_name}.zip\")\n",
    "        ij.py.run_macro(\"roiManager('Select All');\")\n",
    "        rm.runCommand(\"Delete\")"
   ]
  },
  {
   "cell_type": "markdown",
   "id": "83ac9893-042d-4396-b5b0-199e784e175f",
   "metadata": {},
   "source": [
    "## Quantification of total area per Voronoi ROI and per slice in the z-stack\n",
    "This step opens the \"bact\" z-stack with the associated Voronoi ROI set. The macro will then cycle through each single ROI and collect the total area per z using the \"analyze particles...\" > summarize function. The generated table is then saved as a CSV"
   ]
  },
  {
   "cell_type": "code",
   "execution_count": null,
   "id": "3b387595-14a8-473b-8c35-4908a7438699",
   "metadata": {},
   "outputs": [],
   "source": [
    "folder_list = os.listdir(directory_path)\n",
    "rm = ij.RoiManager.getRoiManager()\n",
    "\n",
    "# Iterate over the folders and process each folder\n",
    "for folder in folder_list:\n",
    "    # Get the path to the folder\n",
    "    folder_path = os.path.join(directory_path, folder)\n",
    "    file_pattern = os.path.join(folder_path, \"*_bact.tif\")\n",
    "    file_list = glob.glob(file_pattern)\n",
    "    for file_path in file_list:\n",
    "        image = ij.io().open(file_path)\n",
    "        ij.ui().show(image)\n",
    "        imp = ij.py.to_imageplus(image)\n",
    "        f_name = os.path.basename(file_path)\n",
    "        f_name = os.path.splitext(f_name)[0]\n",
    "        input_ROI = Path(f\"{folder_path}/RoiSet.zip\")\n",
    "        rm.open(f\"{input_ROI}\")\n",
    "        Measure = \"\"\"\n",
    "        setAutoThreshold(\"Default dark no-reset\");\n",
    "        run(\"Threshold...\");\n",
    "        setThreshold(25, 255);\n",
    "        setOption(\"BlackBackground\", true);\n",
    "        run(\"Convert to Mask\", \"black\");\n",
    "        run(\"Set Scale...\", \"distance=1024 known=202.83 unit=µm\");\n",
    "        nbArea=roiManager(\"count\")\n",
    "        for (i=0; i<nbArea; i++) {\n",
    "\t\t\t\troiManager(\"Select\", i);\n",
    "\t\t\t\trun(\"Set Measurements...\", \"area limit redirect=None decimal=2\");\n",
    "\t\t\t\trun(\"Analyze Particles...\", \"summarize stack\");\n",
    "        }\n",
    "        title = Table.title();\n",
    "        selectWindow(title);\n",
    "        Table.rename(title, \"Results\");\n",
    "        array1 = newArray(\"0\");\n",
    "        for (i=1;i<roiManager(\"count\");i++){\n",
    "        array1 = Array.concat(array1,i);\n",
    "        }\n",
    "        roiManager(\"select\", array1);\n",
    "        roiManager(\"Delete\");\n",
    "        close(\"*\");\n",
    "        \n",
    "        \"\"\"\n",
    "        ij.py.run_macro(Measure)\n",
    "        measurements = ij.ResultsTable.getResultsTable() # call of the table\n",
    "        measurements_table = ij.convert().convert(measurements, scyjava.jimport('org.scijava.table.Table')) # conversion to a java table object\n",
    "        table = ij.py.from_java(measurements_table) # Conversion into a python dataframe from Java\n",
    "        results = os.path.basename(file_path)\n",
    "        results = os.path.splitext(results)[0]\n",
    "        output_path = Path(f\"{folder_path}/{results}.csv\") # save giving a name matching the opened image\n",
    "        table.to_csv(output_path)\n",
    "        ij.py.run_macro(\"\"\" \n",
    "        title = Table.title();\n",
    "        selectWindow(title);\n",
    "        run(\"Close\");\n",
    "        \"\"\"\n",
    "                       )\n",
    "        # this last step is to close the result table to avoir a concatenation of the next round of results."
   ]
  },
  {
   "cell_type": "code",
   "execution_count": null,
   "id": "6e0629d9-4074-4651-b9e4-fbba07230a28",
   "metadata": {},
   "outputs": [],
   "source": [
    "rm = ij.RoiManager.getRoiManager()\n",
    "for folder in folder_list:\n",
    "    # Get the path to the folder\n",
    "    folder_path = os.path.join(directory_path, folder)\n",
    "    file_pattern = os.path.join(folder_path, \"Image_CH3_flatten.tif\")\n",
    "    image_red = ij.io().open(file_pattern)\n",
    "    imp = ij.py.to_imageplus(image_red)\n",
    "    input_txt = Path(f\"{folder_path}/Image_CH3_flatten_cp_outlines.txt\")\n",
    "    txt_fh = open(input_txt, 'r')\n",
    "    for line in txt_fh:\n",
    "        xy = line.rstrip().split(\",\")\n",
    "        xy_coords = [int(element) for element in xy if element not in '']\n",
    "        x_coords = [int(element) for element in xy[::2] if element not in '']\n",
    "        y_coords = [int(element) for element in xy[1::2] if element not in '']\n",
    "        xcoords_jint = JArray(JInt)(x_coords)\n",
    "        ycoords_jint = JArray(JInt)(y_coords)\n",
    "        polygon_roi_instance = scyjava.jimport('ij.gui.PolygonRoi')\n",
    "        roi_instance = scyjava.jimport('ij.gui.Roi')\n",
    "        imported_polygon = polygon_roi_instance(xcoords_jint, ycoords_jint, len(x_coords), int(roi_instance.POLYGON))\n",
    "        imp.setRoi(imported_polygon)\n",
    "        rm.addRoi(imported_polygon)\n",
    "    ij.py.run_macro(\"roiManager('Select All');\")\n",
    "    rm.runCommand(\"Save\", f\"{folder_path}/\" + f\"RoiSet.zip\")\n",
    "    ij.py.run_macro(\"roiManager('Select All');\")\n",
    "    rm.runCommand(\"Delete\")"
   ]
  },
  {
   "cell_type": "markdown",
   "id": "ab12f64f-5a7d-4bbb-94ee-d44497217c64",
   "metadata": {},
   "source": [
    "## Calculation of bacterial volume per cell\n",
    "The datasets are structured with on column 'Slice', 'Total Area' and other that we are not interested in. The 'slice' column it an repetition of values 1, 2, 3,...,11. Here for the example case, as the slices are separated by 1um, the volume is a simple sum of the values in the column 'total area' in one repetition of slices 1 to 11. The results of that calculation are then stored in the new dataset, and the total results for each condition are pooled the same dataset and saved as a CSV. "
   ]
  },
  {
   "cell_type": "code",
   "execution_count": null,
   "id": "8f1faefa-d94c-4c69-9349-4e2a503bf265",
   "metadata": {
    "tags": []
   },
   "outputs": [],
   "source": [
    "#df = pandas.read_csv(dataset)\n",
    "#df = df.rename(columns={'Unnamed: 0': 'cellid'})\n",
    "#df.head()"
   ]
  },
  {
   "cell_type": "code",
   "execution_count": 2,
   "id": "14e11fc7-38f9-49e3-a2b4-605e4d86fb87",
   "metadata": {
    "tags": []
   },
   "outputs": [],
   "source": [
    "def calculate_total_volume_per_cell(df):\n",
    "    \"\"\"Calculates the sum of the \"Total Area\" for each pattern of the \"Slice\" column.\n",
    "\n",
    "    Args:\n",
    "        df: A pandas DataFrame containing the data.\n",
    "\n",
    "    Returns:\n",
    "        A pandas DataFrame containing the sum of the \"Total Area\" for each pattern of the \"Slice\" column.\n",
    "    \"\"\"\n",
    "\n",
    "    # Create a list to store the DataFrames with results.\n",
    "    results = []\n",
    "\n",
    "    # Loop through the DataFrame.\n",
    "    for i in range(len(df)):\n",
    "        # If the current cell value in the \"Slice\" column is 1,\n",
    "        if df['Slice'][i] == 1:\n",
    "            # Sum the \"Total Area\" column for the next 10 rows.\n",
    "            #slice_number = 10  # You need to define slice_number and slice_distance\n",
    "            #slice_distance = 1  # You need to define slice_number and slice_distance\n",
    "            bacterial_area = df['Total Area'][i:i + slice_number].sum()\n",
    "            bacterial_volume = bacterial_area * slice_distance\n",
    "            # Create a DataFrame with the current pattern number and the total area.\n",
    "            result_df = pandas.DataFrame({'bacterial_volume': [bacterial_volume]}, index=[i])\n",
    "            results.append(result_df)\n",
    "\n",
    "    # Concatenate the list of DataFrames to create the final results DataFrame.\n",
    "    final_results = pandas.concat(results, ignore_index=True)\n",
    "\n",
    "    # Return the final results DataFrame.\n",
    "    return final_results"
   ]
  },
  {
   "cell_type": "code",
   "execution_count": 36,
   "id": "8051319d-8833-4d3e-9914-9ea7f64910ce",
   "metadata": {
    "tags": []
   },
   "outputs": [],
   "source": [
    "slice_number = 21\n",
    "slice_distance = 0.5  # Change this to the actual slice distance in your experiment\n",
    "folder_list = os.listdir(directory_path)\n",
    "for folder in folder_list:\n",
    "    # Get the path to the folder\n",
    "    folder_path = os.path.join(directory_path, folder)\n",
    "\n",
    "    # Find all the z-projected nuclear files in the folder\n",
    "    file_pattern = os.path.join(folder_path, \"*1airy_05um_bact.csv\")\n",
    "    file_list = glob.glob(file_pattern)\n",
    "    for file_path in file_list:\n",
    "        # Read the DataFrame.\n",
    "        df = pandas.read_csv(file_path)\n",
    "\n",
    "        # Calculate the sum of the \"Total Area\" for each pattern of the \"Slice\" column.\n",
    "        df = calculate_total_volume_per_cell(df)\n",
    "\n",
    "\n",
    "    f_name = os.path.basename(folder_path)\n",
    "    #f_name = os.path.splitext(f_name)[0]\n",
    "    output_path = Path(f\"{folder_path}/{f_name}_05um.csv\")\n",
    "    df.to_csv(output_path)"
   ]
  },
  {
   "cell_type": "markdown",
   "id": "6870040a-f5ce-4d4f-8b2b-a19b0d0b37a8",
   "metadata": {},
   "source": [
    "## testing area\n",
    "Test of follow-up quality controls and figure generation"
   ]
  },
  {
   "cell_type": "code",
   "execution_count": 59,
   "id": "5171e64a-8d05-4fa2-a328-bb23b6f9bb33",
   "metadata": {},
   "outputs": [],
   "source": [
    "root = tk.Tk()\n",
    "root.withdraw()\n",
    "filepath = filedialog.askopenfilename()"
   ]
  },
  {
   "cell_type": "code",
   "execution_count": 45,
   "id": "2055ebdd-336a-4f90-8c37-1a5e13b93b6a",
   "metadata": {},
   "outputs": [
    {
     "name": "stdout",
     "output_type": "stream",
     "text": [
      "/home/saka/Documents/Lab_stuff/confocal/20230823_sty_cytochalasin_MS/cytoD1_rep1/Experiment-1916_1airy_0.18_bact.csv\n"
     ]
    }
   ],
   "source": [
    "print(filepath)"
   ]
  },
  {
   "cell_type": "code",
   "execution_count": 46,
   "id": "dbc4e60c-5780-4188-b0f6-44379dce0326",
   "metadata": {
    "scrolled": true
   },
   "outputs": [],
   "source": [
    "slice_number = 56\n",
    "slice_distance = 0.18 \n",
    "df = pandas.read_csv(filepath)\n",
    "df = calculate_total_volume_per_cell(df)\n",
    "f_name = os.path.basename(filepath)\n",
    "f_name = os.path.splitext(f_name)[0]\n",
    "#output_path = Path(f\"{directory_path}/UT_rep2/UT_rep2_018um.csv\")\n",
    "#df.to_csv(output_path)"
   ]
  },
  {
   "cell_type": "code",
   "execution_count": 47,
   "id": "e52dd91b-45a4-4b94-8d2a-8dbeba6c6bcb",
   "metadata": {},
   "outputs": [
    {
     "data": {
      "text/html": [
       "<div>\n",
       "<style scoped>\n",
       "    .dataframe tbody tr th:only-of-type {\n",
       "        vertical-align: middle;\n",
       "    }\n",
       "\n",
       "    .dataframe tbody tr th {\n",
       "        vertical-align: top;\n",
       "    }\n",
       "\n",
       "    .dataframe thead th {\n",
       "        text-align: right;\n",
       "    }\n",
       "</style>\n",
       "<table border=\"1\" class=\"dataframe\">\n",
       "  <thead>\n",
       "    <tr style=\"text-align: right;\">\n",
       "      <th></th>\n",
       "      <th>bacterial_volume</th>\n",
       "    </tr>\n",
       "  </thead>\n",
       "  <tbody>\n",
       "    <tr>\n",
       "      <th>0</th>\n",
       "      <td>4.703392</td>\n",
       "    </tr>\n",
       "    <tr>\n",
       "      <th>1</th>\n",
       "      <td>0.000000</td>\n",
       "    </tr>\n",
       "    <tr>\n",
       "      <th>2</th>\n",
       "      <td>0.000000</td>\n",
       "    </tr>\n",
       "    <tr>\n",
       "      <th>3</th>\n",
       "      <td>0.000000</td>\n",
       "    </tr>\n",
       "    <tr>\n",
       "      <th>4</th>\n",
       "      <td>0.000000</td>\n",
       "    </tr>\n",
       "  </tbody>\n",
       "</table>\n",
       "</div>"
      ],
      "text/plain": [
       "   bacterial_volume\n",
       "0          4.703392\n",
       "1          0.000000\n",
       "2          0.000000\n",
       "3          0.000000\n",
       "4          0.000000"
      ]
     },
     "execution_count": 47,
     "metadata": {},
     "output_type": "execute_result"
    }
   ],
   "source": [
    "df.head()"
   ]
  },
  {
   "cell_type": "code",
   "execution_count": 48,
   "id": "77c9834c-7963-4282-a80b-28004a8938bf",
   "metadata": {},
   "outputs": [],
   "source": [
    "f_name = os.path.basename(filepath)\n",
    "f_name = os.path.splitext(f_name)[0]\n",
    "output_path = Path(f\"{directory_path}/cytoD1_rep1/cytoD1_rep1_18um.csv\")\n",
    "df.to_csv(output_path)"
   ]
  },
  {
   "cell_type": "code",
   "execution_count": 60,
   "id": "02775e5c-05f8-49c0-b21a-5789c3e83383",
   "metadata": {},
   "outputs": [
    {
     "data": {
      "text/html": [
       "<div>\n",
       "<style scoped>\n",
       "    .dataframe tbody tr th:only-of-type {\n",
       "        vertical-align: middle;\n",
       "    }\n",
       "\n",
       "    .dataframe tbody tr th {\n",
       "        vertical-align: top;\n",
       "    }\n",
       "\n",
       "    .dataframe thead th {\n",
       "        text-align: right;\n",
       "    }\n",
       "</style>\n",
       "<table border=\"1\" class=\"dataframe\">\n",
       "  <thead>\n",
       "    <tr style=\"text-align: right;\">\n",
       "      <th></th>\n",
       "      <th>UT_018</th>\n",
       "      <th>CytoD1_018um</th>\n",
       "      <th>cytoD10</th>\n",
       "    </tr>\n",
       "  </thead>\n",
       "  <tbody>\n",
       "    <tr>\n",
       "      <th>0</th>\n",
       "      <td>5.833336</td>\n",
       "      <td>4.703392</td>\n",
       "      <td>1.377119</td>\n",
       "    </tr>\n",
       "    <tr>\n",
       "      <th>1</th>\n",
       "      <td>0.000000</td>\n",
       "      <td>0.000000</td>\n",
       "      <td>19.166677</td>\n",
       "    </tr>\n",
       "    <tr>\n",
       "      <th>2</th>\n",
       "      <td>2.464691</td>\n",
       "      <td>0.000000</td>\n",
       "      <td>6.701981</td>\n",
       "    </tr>\n",
       "    <tr>\n",
       "      <th>3</th>\n",
       "      <td>38.961885</td>\n",
       "      <td>0.000000</td>\n",
       "      <td>0.000000</td>\n",
       "    </tr>\n",
       "    <tr>\n",
       "      <th>4</th>\n",
       "      <td>0.614407</td>\n",
       "      <td>0.000000</td>\n",
       "      <td>16.433624</td>\n",
       "    </tr>\n",
       "  </tbody>\n",
       "</table>\n",
       "</div>"
      ],
      "text/plain": [
       "      UT_018  CytoD1_018um    cytoD10\n",
       "0   5.833336      4.703392   1.377119\n",
       "1   0.000000      0.000000  19.166677\n",
       "2   2.464691      0.000000   6.701981\n",
       "3  38.961885      0.000000   0.000000\n",
       "4   0.614407      0.000000  16.433624"
      ]
     },
     "execution_count": 60,
     "metadata": {},
     "output_type": "execute_result"
    }
   ],
   "source": [
    "df = pandas.read_csv(filepath)\n",
    "df.head()"
   ]
  },
  {
   "cell_type": "code",
   "execution_count": 61,
   "id": "66dacf38-92a0-4d88-9b58-71062f71f659",
   "metadata": {},
   "outputs": [
    {
     "data": {
      "image/png": "[encoded data removed]",
      "text/plain": [
       "<Figure size 640x480 with 1 Axes>"
      ]
     },
     "metadata": {},
     "output_type": "display_data"
    }
   ],
   "source": [
    "prout = seaborn.violinplot(data=df, width=0.9, dodge=True, palette = \"light:#5A9\", as_cmap=True)\n",
    "plt.ylabel('Volume in µm3')\n",
    "plt.show()"
   ]
  },
  {
   "cell_type": "code",
   "execution_count": 62,
   "id": "60f03260-7839-4046-ae0f-d0d6748ce25b",
   "metadata": {},
   "outputs": [],
   "source": [
    "result = Path(f\"{directory_path}/plot_volume_diff_018um.tif\")\n",
    "violin = prout.get_figure()\n",
    "violin.savefig(result)"
   ]
  }
 ],
 "metadata": {
  "kernelspec": {
   "display_name": "Python 3 (ipykernel)",
   "language": "python",
   "name": "python3"
  },
  "language_info": {
   "codemirror_mode": {
    "name": "ipython",
    "version": 3
   },
   "file_extension": ".py",
   "mimetype": "text/x-python",
   "name": "python",
   "nbconvert_exporter": "python",
   "pygments_lexer": "ipython3",
   "version": "3.10.12"
  }
 },
 "nbformat": 4,
 "nbformat_minor": 5
}
