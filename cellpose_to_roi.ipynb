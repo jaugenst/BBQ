{
 "cells": [
  {
   "cell_type": "code",
   "execution_count": 1,
   "id": "74c96ec4-6bdc-434d-8853-0017753fb45f",
   "metadata": {
    "tags": []
   },
   "outputs": [],
   "source": [
    "from cellpose import models, io\n",
    "from cellpose.io import *\n",
    "from collections import defaultdict\n",
    "import geopandas\n",
    "import glob\n",
    "import imagej\n",
    "from jpype import JArray, JInt\n",
    "import matplotlib.pyplot as plt\n",
    "import multiprocessing as mp\n",
    "import numpy as np\n",
    "import os\n",
    "import re\n",
    "import pandas\n",
    "from pandas import DataFrame\n",
    "from pathlib import Path\n",
    "import scyjava\n",
    "import seaborn\n",
    "import shutil\n",
    "import tkinter as tk\n",
    "from tkinter import filedialog\n",
    "from PIL import Image"
   ]
  },
  {
   "cell_type": "code",
   "execution_count": 2,
   "id": "9fb0d30c-c249-41da-8d3c-27b0ac5d2271",
   "metadata": {
    "tags": []
   },
   "outputs": [
    {
     "data": {
      "text/plain": [
       "'2.9.0/1.53t'"
      ]
     },
     "execution_count": 2,
     "metadata": {},
     "output_type": "execute_result"
    },
    {
     "name": "stdout",
     "output_type": "stream",
     "text": [
      "121\n"
     ]
    }
   ],
   "source": [
    "scyjava.config.add_option('-Xmx30g')\n",
    "start_dir = os.getcwd()\n",
    "#ij = imagej.init('sc.fiji:fiji', mode='interactive')\n",
    "ij = imagej.init('/home/saka/sw/local/fiji/2023', mode='interactive')\n",
    "## Something about this init() function changes the current working directory.\n",
    "ij.getApp().getInfo(True)\n",
    "ij.ui().showUI()\n",
    "os.chdir(start_dir)\n",
    "ij.getVersion() #This is to make sure ImageJ/Fiji opened properly. In case of error, it could display '2.9.0/inactive' instead of the full version number"
   ]
  },
  {
   "cell_type": "code",
   "execution_count": 3,
   "id": "0d3d98e4-f7cf-4b64-b7a4-e911feac5b7e",
   "metadata": {
    "tags": []
   },
   "outputs": [],
   "source": [
    "showPolygonRoi = scyjava.jimport('ij.gui.PolygonRoi')\n",
    "Overlay = scyjava.jimport('ij.gui.Overlay')\n",
    "Regions = scyjava.jimport('net.imglib2.roi.Regions')\n",
    "LabelRegions = scyjava.jimport('net.imglib2.roi.labeling.LabelRegions')\n",
    "ZProjector = scyjava.jimport('ij.plugin.ZProjector')()\n",
    "ov = Overlay()"
   ]
  },
  {
   "cell_type": "code",
   "execution_count": 4,
   "id": "6a44b2b7-b0b4-417b-971c-70a4665170af",
   "metadata": {
    "tags": []
   },
   "outputs": [],
   "source": [
    "Overlay = scyjava.jimport('ij.gui.Overlay')\n",
    "ov = Overlay()\n",
    "rm = ij.RoiManager.getRoiManager()"
   ]
  },
  {
   "cell_type": "code",
   "execution_count": 5,
   "id": "d68fa65d-9aee-46ec-bfae-96cc4ba03519",
   "metadata": {
    "tags": []
   },
   "outputs": [],
   "source": [
    "root = tk.Tk()\n",
    "root.withdraw()\n",
    "filepath = filedialog.askopenfilename()\n"
   ]
  },
  {
   "cell_type": "code",
   "execution_count": 6,
   "id": "1e92257e-2e8b-495e-a7d7-ceba47aef7fe",
   "metadata": {
    "tags": []
   },
   "outputs": [],
   "source": [
    "directory_path = filedialog.askdirectory()"
   ]
  },
  {
   "cell_type": "code",
   "execution_count": 7,
   "id": "17c966d3-f9db-4d3d-8384-1604a1d0bd03",
   "metadata": {
    "tags": []
   },
   "outputs": [],
   "source": [
    "image = ij.io().open(filepath)\n",
    "ij.ui().show(image)\n",
    "imp = ij.py.to_imageplus(image)"
   ]
  },
  {
   "cell_type": "code",
   "execution_count": 8,
   "id": "5584521d-e6e1-4548-ae0b-b2dd078d32f9",
   "metadata": {
    "tags": []
   },
   "outputs": [],
   "source": [
    "data_info = {}\n",
    "for element in range(len(imp.dims)):\n",
    "    name = imp.dims[element]\n",
    "    data_info[name] = imp.shape[element]\n",
    "num_times = data_info['T']\n"
   ]
  },
  {
   "cell_type": "code",
   "execution_count": 9,
   "id": "bcf33b96-ea0f-4c11-bac7-4eed7d6a2725",
   "metadata": {
    "tags": []
   },
   "outputs": [],
   "source": [
    "print(data_info['T'])"
   ]
  },
  {
   "cell_type": "code",
   "execution_count": 10,
   "id": "ff182e25-0201-43f4-bf92-55f349439e58",
   "metadata": {},
   "outputs": [
    {
     "ename": "NameError",
     "evalue": "name 'folder_path' is not defined",
     "output_type": "error",
     "traceback": [
      "\u001b[0;31m---------------------------------------------------------------------------\u001b[0m",
      "\u001b[0;31mNameError\u001b[0m                                 Traceback (most recent call last)",
      "Cell \u001b[0;32mIn[10], line 21\u001b[0m\n\u001b[1;32m     19\u001b[0m     rm\u001b[38;5;241m.\u001b[39mrunCommand(\u001b[38;5;124m'\u001b[39m\u001b[38;5;124mUpdate\u001b[39m\u001b[38;5;124m'\u001b[39m)\n\u001b[1;32m     20\u001b[0m ij\u001b[38;5;241m.\u001b[39mpy\u001b[38;5;241m.\u001b[39mrun_macro(\u001b[38;5;124m\"\u001b[39m\u001b[38;5;124mroiManager(\u001b[39m\u001b[38;5;124m'\u001b[39m\u001b[38;5;124mSelect All\u001b[39m\u001b[38;5;124m'\u001b[39m\u001b[38;5;124m);\u001b[39m\u001b[38;5;124m\"\u001b[39m)\n\u001b[0;32m---> 21\u001b[0m rm\u001b[38;5;241m.\u001b[39mrunCommand(\u001b[38;5;124m\"\u001b[39m\u001b[38;5;124mSave\u001b[39m\u001b[38;5;124m\"\u001b[39m, \u001b[38;5;124mf\u001b[39m\u001b[38;5;124m\"\u001b[39m\u001b[38;5;132;01m{\u001b[39;00m\u001b[43mfolder_path\u001b[49m\u001b[38;5;132;01m}\u001b[39;00m\u001b[38;5;124m/\u001b[39m\u001b[38;5;124m\"\u001b[39m \u001b[38;5;241m+\u001b[39m \u001b[38;5;124mf\u001b[39m\u001b[38;5;124m\"\u001b[39m\u001b[38;5;132;01m{\u001b[39;00mf_name\u001b[38;5;132;01m}\u001b[39;00m\u001b[38;5;124m.zip\u001b[39m\u001b[38;5;124m\"\u001b[39m)\n",
      "\u001b[0;31mNameError\u001b[0m: name 'folder_path' is not defined"
     ]
    }
   ],
   "source": [
    "for i in range (data_info['T']):\n",
    "    macro = f\"Stack.setFrame({i + 1})\"\n",
    "    ij.py.run_macro(macro)\n",
    "    input_txt = Path(f\"{directory_path}/frame_{i}_cp_outlines.txt\")\n",
    "    txt_fh = open(input_txt, 'r')\n",
    "    for line in txt_fh:\n",
    "            xy = line.rstrip().split(\",\")\n",
    "            xy_coords = [int(element) for element in xy if element not in '']\n",
    "            x_coords = [int(element) for element in xy[::2] if element not in '']\n",
    "            y_coords = [int(element) for element in xy[1::2] if element not in '']\n",
    "            xcoords_jint = JArray(JInt)(x_coords)\n",
    "            ycoords_jint = JArray(JInt)(y_coords)\n",
    "            polygon_roi_instance = scyjava.jimport('ij.gui.PolygonRoi')\n",
    "            roi_instance = scyjava.jimport('ij.gui.Roi')\n",
    "            imported_polygon = polygon_roi_instance(xcoords_jint, ycoords_jint, len(x_coords), int(roi_instance.POLYGON))\n",
    "            imp.setRoi(imported_polygon)\n",
    "            rm.addRoi(imported_polygon)\n",
    "    rm.runCommand(\"Select\", f\"{i}\")\n",
    "    rm.runCommand('Update')\n",
    "ij.py.run_macro(\"roiManager('Select All');\")\n",
    "rm.runCommand(\"Save\", f\"{folder_path}/\" + f\"{f_name}.zip\")"
   ]
  },
  {
   "cell_type": "code",
   "execution_count": null,
   "id": "711292fa-d4b0-4868-861f-7e96fda63321",
   "metadata": {},
   "outputs": [],
   "source": []
  }
 ],
 "metadata": {
  "kernelspec": {
   "display_name": "Python 3 (ipykernel)",
   "language": "python",
   "name": "python3"
  },
  "language_info": {
   "codemirror_mode": {
    "name": "ipython",
    "version": 3
   },
   "file_extension": ".py",
   "mimetype": "text/x-python",
   "name": "python",
   "nbconvert_exporter": "python",
   "pygments_lexer": "ipython3",
   "version": "3.10.6"
  }
 },
 "nbformat": 4,
 "nbformat_minor": 5
}
