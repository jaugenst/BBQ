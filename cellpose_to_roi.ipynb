{
 "cells": [
  {
   "cell_type": "code",
   "execution_count": 1,
   "id": "74c96ec4-6bdc-434d-8853-0017753fb45f",
   "metadata": {
    "tags": []
   },
   "outputs": [],
   "source": [
    "from cellpose import models, io\n",
    "from cellpose.io import *\n",
    "from collections import defaultdict\n",
    "import geopandas\n",
    "import glob\n",
    "import imagej\n",
    "from jpype import JArray, JInt\n",
    "import matplotlib.pyplot as plt\n",
    "import multiprocessing as mp\n",
    "import numpy as np\n",
    "import os\n",
    "import re\n",
    "import pandas\n",
    "from pandas import DataFrame\n",
    "from pathlib import Path\n",
    "import scyjava\n",
    "import seaborn\n",
    "import shutil\n",
    "import tkinter as tk\n",
    "from tkinter import filedialog\n",
    "from PIL import Image"
   ]
  },
  {
   "cell_type": "code",
   "execution_count": 2,
   "id": "9fb0d30c-c249-41da-8d3c-27b0ac5d2271",
   "metadata": {
    "tags": []
   },
   "outputs": [
    {
     "data": {
      "text/plain": [
       "'2.9.0/1.54e'"
      ]
     },
     "execution_count": 2,
     "metadata": {},
     "output_type": "execute_result"
    },
    {
     "name": "stdout",
     "output_type": "stream",
     "text": [
      "ZeissCZIReader initializing /home/saka/Documents/Lab stuff/confocal/exp2/Experiment-1647-Split Scenes-01.czi\n",
      "X\n",
      "Y\n",
      "Z\n",
      "T\n"
     ]
    }
   ],
   "source": [
    "scyjava.config.add_option('-Xmx30g')\n",
    "start_dir = os.getcwd()\n",
    "#ij = imagej.init('sc.fiji:fiji', mode='interactive')\n",
    "ij = imagej.init('/home/saka/sw/local/fiji/2023', mode='interactive')\n",
    "## Something about this init() function changes the current working directory.\n",
    "ij.getApp().getInfo(True)\n",
    "ij.ui().showUI()\n",
    "os.chdir(start_dir)\n",
    "ij.getVersion() #This is to make sure ImageJ/Fiji opened properly. In case of error, it could display '2.9.0/inactive' instead of the full version number"
   ]
  },
  {
   "cell_type": "code",
   "execution_count": 3,
   "id": "0d3d98e4-f7cf-4b64-b7a4-e911feac5b7e",
   "metadata": {
    "tags": []
   },
   "outputs": [],
   "source": [
    "showPolygonRoi = scyjava.jimport('ij.gui.PolygonRoi')\n",
    "Overlay = scyjava.jimport('ij.gui.Overlay')\n",
    "Regions = scyjava.jimport('net.imglib2.roi.Regions')\n",
    "LabelRegions = scyjava.jimport('net.imglib2.roi.labeling.LabelRegions')\n",
    "ZProjector = scyjava.jimport('ij.plugin.ZProjector')()\n",
    "ov = Overlay()"
   ]
  },
  {
   "cell_type": "code",
   "execution_count": 4,
   "id": "6a44b2b7-b0b4-417b-971c-70a4665170af",
   "metadata": {
    "tags": []
   },
   "outputs": [],
   "source": [
    "Overlay = scyjava.jimport('ij.gui.Overlay')\n",
    "ov = Overlay()\n",
    "rm = ij.RoiManager.getRoiManager()"
   ]
  },
  {
   "cell_type": "code",
   "execution_count": 5,
   "id": "6016adc4-0628-4970-ac40-b1dd84a1245d",
   "metadata": {},
   "outputs": [],
   "source": [
    "directory_path = '/home/saka/Documents/Lab stuff/confocal/exp2'\n",
    "os.chdir(directory_path)"
   ]
  },
  {
   "cell_type": "code",
   "execution_count": 6,
   "id": "d68fa65d-9aee-46ec-bfae-96cc4ba03519",
   "metadata": {
    "tags": []
   },
   "outputs": [],
   "source": [
    "root = tk.Tk()\n",
    "root.withdraw()\n",
    "filepath = filedialog.askopenfilename()"
   ]
  },
  {
   "cell_type": "code",
   "execution_count": 7,
   "id": "17c966d3-f9db-4d3d-8384-1604a1d0bd03",
   "metadata": {
    "tags": []
   },
   "outputs": [
    {
     "name": "stderr",
     "output_type": "stream",
     "text": [
      "[java.lang.Enum.toString] ZeissCZIReader initializing /home/saka/Documents/Lab stuff/confocal/exp2/Experiment-1647-Split Scenes-01.czi\n",
      "[WARN] Unknown DetectorType value 'GaAsP-PMT' will be stored as \"Other\"\n",
      "[java.lang.Enum.toString] [WARN] Unknown DetectorType value 'GaAsP-PMT' will be stored as \"Other\"\n",
      "[WARN] Unknown DetectorType value 'GaAsP-PMT' will be stored as \"Other\"\n",
      "[java.lang.Enum.toString] [WARN] Unknown DetectorType value 'GaAsP-PMT' will be stored as \"Other\"\n",
      "[WARN] Unknown DetectorType value 'GaAsP-PMT' will be stored as \"Other\"\n",
      "[java.lang.Enum.toString] [WARN] Unknown DetectorType value 'GaAsP-PMT' will be stored as \"Other\"\n",
      "[WARN] Unknown DetectorType value 'Multialkali-PMT' will be stored as \"Other\"\n",
      "[java.lang.Enum.toString] [WARN] Unknown DetectorType value 'Multialkali-PMT' will be stored as \"Other\"\n"
     ]
    }
   ],
   "source": [
    "image = ij.io().open(filepath)\n",
    "#ij.ui().show(image)\n",
    "imp = ij.py.to_imageplus(image)"
   ]
  },
  {
   "cell_type": "code",
   "execution_count": 8,
   "id": "350b3045-40fc-4f8b-a278-375420b93270",
   "metadata": {},
   "outputs": [],
   "source": [
    "wanted_channel = 3\n",
    "channel = image[:, :, wanted_channel, :, :]\n",
    "imp = ij.py.to_imageplus(channel)\n",
    "imp.setDimensions(1, 11, 121)\n",
    "#ij.ui().show(imp)"
   ]
  },
  {
   "cell_type": "code",
   "execution_count": 10,
   "id": "45f0cca7-7e6c-4124-ba5b-53b3b841ea1e",
   "metadata": {},
   "outputs": [],
   "source": [
    "data_info = {}\n",
    "for element in range(len(imp.dims)):\n",
    "    name = imp.dims[element]\n",
    "    data_info[name] = imp.shape[element]\n",
    "    print(name)\n",
    "num_frame = data_info['T'] + 1"
   ]
  },
  {
   "cell_type": "code",
   "execution_count": 11,
   "id": "ff182e25-0201-43f4-bf92-55f349439e58",
   "metadata": {},
   "outputs": [
    {
     "data": {
      "text/plain": [
       "True"
      ]
     },
     "execution_count": 11,
     "metadata": {},
     "output_type": "execute_result"
    }
   ],
   "source": [
    "for timepoint in range(1, num_frame):\n",
    "    frame_number = timepoint - 1\n",
    "    input_txt = Path(f\"{directory_path}/outputs/Experiment-1647-Split Scenes-01_z2/cellpose/frame_{frame_number}_cp_outlines.txt\")\n",
    "    txt_fh = open(input_txt, 'r')\n",
    "    for line in txt_fh:\n",
    "            xy = line.rstrip().split(\",\")\n",
    "            xy_coords = [int(element) for element in xy if element not in '']\n",
    "            x_coords = [int(element) for element in xy[::2] if element not in '']\n",
    "            y_coords = [int(element) for element in xy[1::2] if element not in '']\n",
    "            xcoords_jint = JArray(JInt)(x_coords)\n",
    "            ycoords_jint = JArray(JInt)(y_coords)\n",
    "            polygon_roi_instance = scyjava.jimport('ij.gui.PolygonRoi')\n",
    "            roi_instance = scyjava.jimport('ij.gui.Roi')\n",
    "            imported_polygon = polygon_roi_instance(xcoords_jint, ycoords_jint, len(x_coords), int(roi_instance.POLYGON))\n",
    "            imp.setRoi(imported_polygon)\n",
    "            rm.addRoi(imported_polygon)\n",
    "            roi_count = rm.getCount()\n",
    "            rm.select(roi_count - 1)\n",
    "            time_set = imp.setT(timepoint)   \n",
    "            #rm.runCommand('Update')\n",
    "#ij.py.run_macro(\"roiManager('Select All');\")\n",
    "f_name = os.path.basename(filepath)\n",
    "f_name = os.path.splitext(f_name)[0]\n",
    "rm.runCommand(\"Save\", f\"{directory_path}/\" + f\"{f_name}.zip\")"
   ]
  },
  {
   "cell_type": "code",
   "execution_count": 16,
   "id": "711292fa-d4b0-4868-861f-7e96fda63321",
   "metadata": {},
   "outputs": [],
   "source": [
    "ij.ui().show(image)"
   ]
  },
  {
   "cell_type": "code",
   "execution_count": null,
   "id": "59ea6291-6cb1-4683-8911-ff3cf3612c0f",
   "metadata": {},
   "outputs": [],
   "source": []
  }
 ],
 "metadata": {
  "kernelspec": {
   "display_name": "Python 3 (ipykernel)",
   "language": "python",
   "name": "python3"
  },
  "language_info": {
   "codemirror_mode": {
    "name": "ipython",
    "version": 3
   },
   "file_extension": ".py",
   "mimetype": "text/x-python",
   "name": "python",
   "nbconvert_exporter": "python",
   "pygments_lexer": "ipython3",
   "version": "3.10.6"
  }
 },
 "nbformat": 4,
 "nbformat_minor": 5
}
