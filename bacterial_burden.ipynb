{
 "cells": [
  {
   "cell_type": "markdown",
   "id": "b281920c-854f-4786-8d9d-f39b3f1949b1",
   "metadata": {},
   "source": [
    "# Libraries and modules"
   ]
  },
  {
   "cell_type": "code",
   "execution_count": null,
   "id": "b241db96-ca30-4bf3-bd29-9f23b5429a78",
   "metadata": {},
   "outputs": [],
   "source": [
    "from cellpose import models, io\n",
    "from cellpose.io import *\n",
    "from collections import defaultdict\n",
    "import glob\n",
    "import imagej\n",
    "from jpype import JArray, JInt\n",
    "import matplotlib.pyplot as plt\n",
    "import multiprocessing as mp\n",
    "import numpy as np\n",
    "import os\n",
    "import re\n",
    "import pandas\n",
    "from pandas import DataFrame\n",
    "from pathlib import Path\n",
    "import scyjava\n",
    "import tkinter as tk\n",
    "from tkinter import filedialog\n",
    "from PIL import Image"
   ]
  },
  {
   "cell_type": "markdown",
   "id": "f4d1509b-7ba7-48a2-a56d-624347812b7f",
   "metadata": {},
   "source": [
    "# Initialization of ImageJ"
   ]
  },
  {
   "cell_type": "code",
   "execution_count": null,
   "id": "8fad82b4-bdee-4dc0-b22b-1810a57b86a1",
   "metadata": {
    "tags": []
   },
   "outputs": [],
   "source": [
    "scyjava.config.add_option('-Xmx30g') # this is to assign RAM to the java session\n",
    "start_dir = os.getcwd()\n",
    "#ij = imagej.init('sc.fiji:fiji', mode='interactive')\n",
    "ij = imagej.init('/home/saka/sw/local/fiji/2023', mode='interactive')\n",
    "ij.getApp().getInfo(True)\n",
    "ij.ui().showUI()\n",
    "os.chdir(start_dir)\n",
    "ij.getVersion() #This is to make sure ImageJ/Fiji opened properly. In case of error, it could display '2.9.0/inactive' instead of the full version number"
   ]
  },
  {
   "cell_type": "markdown",
   "id": "bbf0c92a-dda3-425a-b7a7-14c47b25f333",
   "metadata": {
    "tags": []
   },
   "source": [
    "# Import of fiji plugins\n",
    "This import the ROI manager and associated useful libraries, and z-projector modules."
   ]
  },
  {
   "cell_type": "code",
   "execution_count": null,
   "id": "b625b312-7dfb-45d1-86f8-a00c84ecde1f",
   "metadata": {
    "tags": []
   },
   "outputs": [],
   "source": [
    "showPolygonRoi = scyjava.jimport('ij.gui.PolygonRoi')\n",
    "Overlay = scyjava.jimport('ij.gui.Overlay')\n",
    "Regions = scyjava.jimport('net.imglib2.roi.Regions')\n",
    "LabelRegions = scyjava.jimport('net.imglib2.roi.labeling.LabelRegions')\n",
    "ZProjector = scyjava.jimport('ij.plugin.ZProjector')()\n",
    "ov = Overlay()"
   ]
  },
  {
   "cell_type": "markdown",
   "id": "310c160a-0633-4428-936f-557460fbac2d",
   "metadata": {},
   "source": [
    "# Assignement of parent folder that contains all the subfolders of all your conditions\n",
    "This opens a dialog window whare you choose the parent folder"
   ]
  },
  {
   "cell_type": "code",
   "execution_count": null,
   "id": "3b48ac5e-80ad-4d4a-8004-733c2aa4f999",
   "metadata": {},
   "outputs": [],
   "source": [
    "root = tk.Tk()\n",
    "root.withdraw()\n",
    "directory_path = filedialog.askdirectory()\n",
    "# It seems on Windows OS the dialog window appears \"behind\" the current page. So if it does not seem to work, reduce the browser and you may see it."
   ]
  },
  {
   "cell_type": "markdown",
   "id": "448a5277-d876-45a7-bccd-6ad49c5c5099",
   "metadata": {
    "tags": []
   },
   "source": [
    "# Step 1: Generation of the smoothed Z-projection \"max\" of the nuclei channel\n",
    "Change the channel number by the desired number. By default, it is set to 0 for channel 1 on the image. "
   ]
  },
  {
   "cell_type": "code",
   "execution_count": null,
   "id": "2fc75721-1b9d-40d3-b181-92688340094f",
   "metadata": {
    "tags": []
   },
   "outputs": [],
   "source": [
    "# This is the channel number. The \"0\" means this is channel one that will be selected.\n",
    "wanted_channel = 0\n",
    "\n",
    "# Z-projection method. Can be change to 'sum' or other as needed. \n",
    "method = 'max'\n",
    "\n",
    "# Get a list of all the folders in the directory\n",
    "folder_list = os.listdir(directory_path)\n",
    "\n",
    "# Iterate over the folders and process each folder\n",
    "for folder in folder_list:\n",
    "    # Get the path to the folder\n",
    "    folder_path = os.path.join(directory_path, folder)\n",
    "\n",
    "    # Find all the JPG files in the folder\n",
    "    file_pattern = os.path.join(folder_path, \"*1airy_1um.czi\")\n",
    "    file_list = glob.glob(file_pattern)\n",
    "\n",
    "    # Iterate through the files and apply the image analysis workflow to each image\n",
    "    for file_path in file_list:\n",
    "        image = ij.io().open(file_path)\n",
    "        blue_channel = image[:, :, wanted_channel,:]\n",
    "\n",
    "        # Cellpose segmentation for nuclei worked better with a smoothed nuclear signal, specially with low signal. Smoothing workflow :\n",
    "        sigma = 1.5  # Adjust the value of sigma as needed\n",
    "        smoothed_image = ij.op().run(\"smooth\", blue_channel, sigma)\n",
    "        imp = ij.py.to_imageplus(smoothed_image)\n",
    "\n",
    "        # Z-projection\n",
    "        z_projector_result = ZProjector.run(imp, method)\n",
    "        z_collapsed_image = ij.py.from_java(z_projector_result)\n",
    "        z_collapsed_dataset = ij.py.to_dataset(z_collapsed_image)  \n",
    "\n",
    "        # Save as a TIFF image\n",
    "        result_path = os.path.splitext(file_path)[0] + \"_blue.tif\"\n",
    "        ij.io().save(z_collapsed_dataset, result_path)\n",
    "        print(f\"Saving image {result_path}.\")"
   ]
  },
  {
   "cell_type": "markdown",
   "id": "d43931c6-870b-4846-abce-128fa6f22cf9",
   "metadata": {},
   "source": [
    "## Alternative step 1: isolation of a single slice from T-PMT channel"
   ]
  },
  {
   "cell_type": "code",
   "execution_count": null,
   "id": "9053e1ce-9b98-4b47-9b50-c8475a05d005",
   "metadata": {},
   "outputs": [],
   "source": [
    "# Get a list of all the folders in the directory\n",
    "folder_list = os.listdir(directory_path)\n",
    "for folder in folder_list:\n",
    "    # Get the path to the folder\n",
    "    folder_path = os.path.join(directory_path, folder)\n",
    "    # Find all the \".czi\" files in the folder\n",
    "    file_pattern = os.path.join(folder_path, \"*.czi\")\n",
    "    file_list = glob.glob(file_pattern)\n",
    "    for file_path in file_list:\n",
    "        image = ij.io().open(file_path)\n",
    "        wanted_channel = 1\n",
    "        wanted_z = 2\n",
    "        wanted_image = image[:, :, wanted_channel, wanted_z]\n",
    "        result_path = os.path.splitext(file_path)[0] + \"-1.tif\"\n",
    "        cellpose_image = ij.py.to_dataset(wanted_image)\n",
    "        ij.io().save(cellpose_image, result_path)\n",
    "        print(f\"Saving image {result_path}.\")"
   ]
  },
  {
   "cell_type": "markdown",
   "id": "b3e9567b-29e0-427e-aff0-7b427031a844",
   "metadata": {},
   "source": [
    "## Segmentation using Cellpose\n",
    "For the training of your own model, please follow the training instruction of cellpose GUI, or the youtube tutorial : https://www.youtube.com/watch?v=5qANHWoubZU\n",
    "\n",
    "Here the model is called \"raw\" and was obtained from training on the nuclear channel of raw cells. Segmentation results should be manually verified first any time a new cell type is used to ensure the pre-trained or newly trained models are behaving similarly. For the training on the transmitted light channel, a randomly picked subset of images generated in the alternative step 1 was used. \n",
    "Also, here cellpose is called to segment any image following the format TIF, PNG, JPG in the folders. As the original format CZI used here is not recognized by Cellpose, there was no need of segmentating a specific subset of images. If needed, look below at the alternative way of using cellpose.\n",
    "\n",
    "NB: \"gpu=True\" requires having installed the proper libraries. Please look at Cellpose documentation."
   ]
  },
  {
   "cell_type": "code",
   "execution_count": null,
   "id": "3311dbdb-ed45-4aa8-8147-e077797caa2e",
   "metadata": {},
   "outputs": [],
   "source": [
    "model = models.CellposeModel(gpu=True, model_type='raw')\n",
    "files = get_image_files(directory_path, '_masks', look_one_level_down=True)\n",
    "imgs = [imread(f) for f in files]\n",
    "nimg = len(imgs)\n",
    "channels = [[0,0]]\n",
    "masks, flows, styles = model.eval(imgs, diameter=None, channels=channels)\n",
    "io.save_to_png(imgs, masks, flows, files)"
   ]
  },
  {
   "cell_type": "markdown",
   "id": "a63cb75a-ca48-42ab-985b-18bb53ea33db",
   "metadata": {},
   "source": [
    "### Alternative way of using cellpose, example of segmenting only the images whose path ends by \"_blue.tif\". "
   ]
  },
  {
   "cell_type": "code",
   "execution_count": null,
   "id": "427ec961-00e8-49ba-89e0-8e73438a94b9",
   "metadata": {},
   "outputs": [],
   "source": [
    "for folder in folder_list:\n",
    "    folder_path = os.path.join(directory_path, folder)\n",
    "    file_pattern = os.path.join(folder_path, \"*_blue.tif\")\n",
    "    file_list = glob.glob(file_pattern)\n",
    "    model = models.CellposeModel(gpu=True, model_type='raw')\n",
    "    for file_path in file_list:\n",
    "        imgs = io.imread(file_path)\n",
    "        channels = [[0,0]]\n",
    "        masks, flows, styles = model.eval(imgs, diameter=None, channels=channels)\n",
    "        io.save_to_png(imgs, masks, flows, file_path)"
   ]
  },
  {
   "cell_type": "markdown",
   "id": "a1fd3316-ea8d-4728-aa82-fc6986af1101",
   "metadata": {},
   "source": [
    "## from alternative step 1: ROI collection\n",
    "The next cell is in case of use of cellpose for segmentation of cells from the transmitted light channel. It will open the images used for segmentation and apply the ROIs using the corresponding text file."
   ]
  },
  {
   "cell_type": "code",
   "execution_count": null,
   "id": "e16e3125-4e33-4f2b-96a9-d612dd69e26e",
   "metadata": {},
   "outputs": [],
   "source": [
    "rm = ij.RoiManager.getRoiManager()\n",
    "folder_list = os.listdir(directory_path)\n",
    "for folder in folder_list:\n",
    "    # Get the path to the folder\n",
    "    folder_path = os.path.join(directory_path, folder)\n",
    "    file_pattern = os.path.join(folder_path, \"*-1.tif\")\n",
    "    file_list = glob.glob(file_pattern)\n",
    "    for file_path in file_list:\n",
    "        image_red = ij.io().open(file_path)\n",
    "        imp = ij.py.to_imageplus(image_red)\n",
    "        f_name = os.path.basename(file_path)\n",
    "        f_name = os.path.splitext(f_name)[0]\n",
    "        input_txt = Path(f\"{folder_path}/{f_name}_cp_outlines.txt\")\n",
    "        txt_fh = open(input_txt, 'r')\n",
    "        for line in txt_fh:\n",
    "            xy = line.rstrip().split(\",\")\n",
    "            xy_coords = [int(element) for element in xy if element not in '']\n",
    "            x_coords = [int(element) for element in xy[::2] if element not in '']\n",
    "            y_coords = [int(element) for element in xy[1::2] if element not in '']\n",
    "            xcoords_jint = JArray(JInt)(x_coords)\n",
    "            ycoords_jint = JArray(JInt)(y_coords)\n",
    "            polygon_roi_instance = scyjava.jimport('ij.gui.PolygonRoi')\n",
    "            roi_instance = scyjava.jimport('ij.gui.Roi')\n",
    "            imported_polygon = polygon_roi_instance(xcoords_jint, ycoords_jint, len(x_coords), int(roi_instance.POLYGON))\n",
    "            imp.setRoi(imported_polygon)\n",
    "            rm.addRoi(imported_polygon)\n",
    "        ij.py.run_macro(\"roiManager('Select All');\")\n",
    "        rm.runCommand(\"Save\", f\"{folder_path}/\" + f\"{f_name}.zip\")\n",
    "        ij.py.run_macro(\"roiManager('Select All');\")\n",
    "        rm.runCommand(\"Delete\")"
   ]
  },
  {
   "cell_type": "markdown",
   "id": "9a228dc1-e8a9-4a30-8b9a-ae4369ce39ff",
   "metadata": {},
   "source": [
    "# Step 2: Voronoi segmentation on the nuclei channel\n",
    "This part will open the nuclear channel generated earlier with the associated text file. It then run the voronoi segmentation and save the newly created ROI set."
   ]
  },
  {
   "cell_type": "code",
   "execution_count": null,
   "id": "f738ddc8-2d41-46c1-a93c-644bae9b7246",
   "metadata": {},
   "outputs": [],
   "source": [
    "folder_list = os.listdir(directory_path)\n",
    "rm = ij.RoiManager.getRoiManager()\n",
    "\n",
    "# Iterate over the folders and process each folder\n",
    "for folder in folder_list:\n",
    "    # Get the path to the folder\n",
    "    folder_path = os.path.join(directory_path, folder)\n",
    "\n",
    "    # Find all the z-projected nuclear files in the folder\n",
    "    file_pattern = os.path.join(folder_path, \"*_blue.tif\")\n",
    "    file_list = glob.glob(file_pattern)\n",
    "\n",
    "\n",
    "\n",
    "    for file_path in file_list:\n",
    "        image = ij.io().open(file_path)\n",
    "        f_name = os.path.basename(file_path)\n",
    "        f_name = os.path.splitext(f_name)[0]\n",
    "        input_txt = Path(f\"{folder_path}/{f_name}_cp_outlines.txt\")\n",
    "        txt_fh = open(input_txt, 'r')\n",
    "        set_string = f'Set Measurements...'\n",
    "        measure_string = f'centroid redirect=None decimal=1'\n",
    "        ij.IJ.run(set_string, measure_string)\n",
    "        roi_stats = defaultdict(list)\n",
    "        ij.ui().show(image)\n",
    "        #to better draw, apply and save ROIs, the image should be displayed:\n",
    "        imp = ij.py.to_imageplus(image) \n",
    "        #Call of .txt cellpose output file and draw ROIs based on segmentation result, and add them in the ROI manager\n",
    "        for line in txt_fh:\n",
    "            xy = line.rstrip().split(\",\")\n",
    "            xy_coords = [int(element) for element in xy]\n",
    "            x_coords = [int(element) for element in xy[::2]]\n",
    "            y_coords = [int(element) for element in xy[1::2]]\n",
    "            xcoords_jint = JArray(JInt)(x_coords)\n",
    "            ycoords_jint = JArray(JInt)(y_coords)\n",
    "            polygon_roi_instance = scyjava.jimport('ij.gui.PolygonRoi')\n",
    "            roi_instance = scyjava.jimport('ij.gui.Roi')\n",
    "            imported_polygon = polygon_roi_instance(xcoords_jint, ycoords_jint, len(x_coords), int(roi_instance.POLYGON))\n",
    "            imp.setRoi(imported_polygon)\n",
    "            rm.addRoi(imported_polygon)\n",
    "\n",
    "# The following Macro will first duplicate the opened image, select the nuclear ROIs and reduce them by 1 pixel.\n",
    "# This is because the function \"Analyze Particles...\" in ImageJ cannot detect 2 objects separated by 1 pixel.\n",
    "# All of the ROIs are then selected, filled, and the background remove using \"clear outside\".\n",
    "# The resulting image was converted in a binary mask. Particles were detected to collect x,y coordinates and Voronoi segmentation applied. \n",
    "# x,y coordinates of objects used as coordinates to apply the magic wand in the Voronoi mesh and create ROIs. \n",
    "# The ROI set is saved matching the name of the opened file.\n",
    "\n",
    "\n",
    "        Macro_voronoi = \"\"\"\n",
    "    nbArea=roiManager(\"count\")\n",
    "for (i=0; i<nbArea; i++) {\n",
    "\t\troiManager(\"Select\", i);\n",
    "\t\trun(\"Enlarge...\", \"enlarge=-1 pixel\");\n",
    "\t\troiManager(\"update\");\t\n",
    "\t}\n",
    "\n",
    "array1 = newArray(\"0\");;\n",
    "for (i=1;i<roiManager(\"count\");i++){\n",
    "        array1 = Array.concat(array1,i);\n",
    "}\n",
    "\troiManager(\"select\", array1);\n",
    "\troiManager(\"XOR\");\n",
    "\troiManager(\"Fill\");\n",
    "\troiManager(\"select\", array1);\n",
    "\troiManager(\"XOR\");\n",
    "\trun(\"Clear Outside\");\n",
    "\troiManager(\"Delete\")\n",
    "setThreshold(255, 255);\n",
    "run(\"Convert to Mask\", \"method=Default background=Dark black\");\n",
    "\n",
    "//Voronoi ROI generations\n",
    "\n",
    "run(\"Set Measurements...\", \"center redirect=None decimal=1\");\n",
    "\trun(\"Analyze Particles...\",\"size=3-Infinity display clear\");\n",
    "\t//Resolution de l'image pwidth et pheight\n",
    "\tgetPixelSize(unit, pw, ph, pd);\n",
    "\t//Voronio\n",
    "\trun(\"Voronoi\");\n",
    "\tsetThreshold(0, 0,\"black & white\");\n",
    "\t\n",
    "\t//Wand to ROI Manager\n",
    "\tx=newArray(nResults);\n",
    "\ty=newArray(nResults);\n",
    "\tnbPoints=nResults;\n",
    "\t\n",
    "\tfor (i=0; i<nbPoints; i++) {\n",
    "\t\tx[i]=getResult(\"XM\",i)/pw;\n",
    "\t\ty[i]=getResult(\"YM\",i)/ph;\n",
    "\t}\n",
    "\tfor (i=0; i<nbPoints; i++) {\n",
    "\t\tdoWand(x[i], y[i], 156.0, \"Legacy\");\n",
    "\t\troiManager(\"Add\");\n",
    "\t}\n",
    "\n",
    "\t//Center of mass\n",
    "\t/*\n",
    "\tx=newArray(nResults);\n",
    "\ty=newArray(nResults);\n",
    "\tfor (i=0; i<nResults; i++) {\n",
    "\t\tx[i]=getResult(\"XM\",i)/pw;\n",
    "\t\ty[i]=getResult(\"YM\",i)/ph;\n",
    "\t}\n",
    "\t*/\n",
    "\tmakeSelection(\"point\", x, y);\n",
    "    selectWindow(\"Results\");\n",
    "    run(\"Close\");\n",
    "    close(\"*\");\n",
    "    \"\"\"\n",
    "        ij.py.run_macro(Macro_voronoi)   \n",
    "        ij.py.run_macro(\"roiManager('Select All');\")\n",
    "        rm.runCommand(\"Save\", f\"{folder_path}/\" + f\"{f_name}.zip\")\n",
    "        rm.runCommand(\"Delete\")"
   ]
  },
  {
   "cell_type": "markdown",
   "id": "525b865f-14c3-4514-a885-ce9a5777376b",
   "metadata": {},
   "source": [
    "### Rename of zip files.\n",
    "I Realize that for better automation the ROI set generated from Voronoi segmentation had to be renamed for a better automation. I guess this could be improved. "
   ]
  },
  {
   "cell_type": "code",
   "execution_count": null,
   "id": "a928cf4d-1bd2-47e0-9778-d63209fe1246",
   "metadata": {
    "tags": []
   },
   "outputs": [],
   "source": [
    "folder_list = os.listdir(directory_path)\n",
    "# Iterate over the folders and process each folder\n",
    "for folder in folder_list:\n",
    "    # Get the path to the folder\n",
    "    folder_path = os.path.join(directory_path, folder)\n",
    "    file_prefix = \"Experiment-\"  # Specify the common prefix of the files\n",
    "\n",
    "# Regular expression pattern to match the number in the filename\n",
    "    pattern = re.compile(rf\"{file_prefix}(\\d+)_1airy_1um_blue\\.zip\", re.IGNORECASE)\n",
    "\n",
    "# Iterate over the files in the folder\n",
    "    for filename in os.listdir(folder_path):\n",
    "    # Check if the file matches the desired pattern\n",
    "        match = pattern.match(filename)\n",
    "        if match:\n",
    "        # Extract the number from the filename\n",
    "            current_number = int(match.group(1))\n",
    "        # Construct the new filename with the updated number\n",
    "            new_filename = f\"{file_prefix}{current_number}_1airy_1um_bact.zip\"\n",
    "        # Create the full file paths for the old and new filenames\n",
    "            old_filepath = os.path.join(folder_path, filename)\n",
    "            new_filepath = os.path.join(folder_path, new_filename)\n",
    "        # Rename the file\n",
    "            os.rename(old_filepath, new_filepath)\n",
    "            print(f\"Renamed file: {filename} -> {new_filename}\")"
   ]
  },
  {
   "cell_type": "markdown",
   "id": "8d2ad393-02c3-4992-a6c1-cfb7f738b962",
   "metadata": {},
   "source": [
    "# Step 3: Generation of the Z-projection 'sum' of the bacterial channel\n",
    " \n",
    "Change the channel number by the needed number if required."
   ]
  },
  {
   "cell_type": "code",
   "execution_count": null,
   "id": "7333b935-4ac8-4ceb-98b5-822f1d96a96c",
   "metadata": {},
   "outputs": [],
   "source": [
    "wanted_channel = 2\n",
    "\n",
    "# Z-projection method. Can be change to 'max' or other as needed. \n",
    "method = 'sum'\n",
    "\n",
    "# Get a list of all the folders in the directory\n",
    "folder_list = os.listdir(directory_path)\n",
    "\n",
    "# Iterate over the folders and process each folder\n",
    "for folder in folder_list:\n",
    "    # Get the path to the folder\n",
    "    folder_path = os.path.join(directory_path, folder)\n",
    "\n",
    "    # Find all the \".czi\" files in the folder\n",
    "    file_pattern = os.path.join(folder_path, \"*1airy_1um.czi\")\n",
    "    file_list = glob.glob(file_pattern)\n",
    "\n",
    "    for file_path in file_list:\n",
    "        image = ij.io().open(file_path)\n",
    "        blue_channel = image[:, :, wanted_channel,:]\n",
    "        imp = ij.py.to_imageplus(blue_channel)\n",
    "        z_projector_result = ZProjector.run(imp, method)\n",
    "        z_collapsed_image = ij.py.from_java(z_projector_result)\n",
    "        z_collapsed_dataset = ij.py.to_dataset(z_collapsed_image)  \n",
    "\n",
    "    # Save the results, add a suffix \"bact\" for bacterial channel\n",
    "        result_path = os.path.splitext(file_path)[0] + \"_bact.tif\"\n",
    "\n",
    "    # Save as a TIFF image\n",
    "        ij.io().save(z_collapsed_dataset, result_path)\n",
    "        print(f\"Saving image {result_path}.\")"
   ]
  },
  {
   "cell_type": "markdown",
   "id": "a2693851-308b-4fc7-b22d-de9db524d56b",
   "metadata": {},
   "source": [
    "# quantification of thresholded integrated density per cell / Voronoi zone\n",
    "This will first open the \"bact\" image generated earlier, duplicate it, adjust threshold based on the value manually defined. \n",
    "The bacterial ROIs are then generated and registered in the ROI manager, the duplicated image closed. The bacterial signal is used to clear the background signal, and then the integrated density of fluorescence is measure for each Voronoi area. "
   ]
  },
  {
   "cell_type": "code",
   "execution_count": null,
   "id": "d1d3a964-59a4-499d-b5d8-eef76c9676de",
   "metadata": {
    "tags": []
   },
   "outputs": [],
   "source": [
    "folder_list = os.listdir(directory_path)\n",
    "rm = ij.RoiManager.getRoiManager()\n",
    "\n",
    "# Iterate over the folders and process each folder\n",
    "for folder in folder_list:\n",
    "    # Get the path to the folder\n",
    "    folder_path = os.path.join(directory_path, folder)\n",
    "    file_pattern = os.path.join(folder_path, \"*_bact.tif\")\n",
    "    file_list = glob.glob(file_pattern)\n",
    "    for file_path in file_list:\n",
    "        image = ij.io().open(file_path)\n",
    "        ij.ui().show(image)\n",
    "        imp = ij.py.to_imageplus(image)\n",
    "        f_name = os.path.basename(file_path)\n",
    "        f_name = os.path.splitext(f_name)[0]\n",
    "        input_ROI = Path(f\"{folder_path}/{f_name}.zip\")\n",
    "\n",
    "#this macro is to \n",
    "        no_background = \"\"\"\n",
    "    run(\"Duplicate...\", \"duplicate\");\n",
    "    run(\"Threshold...\");\n",
    "    setThreshold(150, 1000000000000000000000000000000.0000);\n",
    "    setOption(\"BlackBackground\", true);\n",
    "    run(\"Convert to Mask\");\n",
    "    run(\"Analyze Particles...\", \"size=10-Infinity pixel add\");\n",
    "    close();\n",
    "    \n",
    "    array1 = newArray(\"0\");\n",
    "    for (i=1;i<roiManager(\"count\");i++){\n",
    "    array1 = Array.concat(array1,i);\n",
    "    }\n",
    "\troiManager(\"select\", array1);\n",
    "\troiManager(\"XOR\");\n",
    "    run(\"Clear Outside\");\n",
    "    roiManager(\"select\", array1);\n",
    "    roiManager(\"Delete\");\n",
    "    run(\"Set Measurements...\", \"integrated limit redirect=None decimal=2\");\n",
    "    setThreshold(150, 1000000000000000000000000000000.0000, \"raw\");\n",
    "    \"\"\"\n",
    "        ij.py.run_macro(no_background)\n",
    "    \n",
    "        rm.open(f\"{input_ROI}\")\n",
    "        Measure = \"\"\"\n",
    "    nbArea=roiManager(\"count\")\n",
    "    for (i=0; i<nbArea; i++) {\n",
    "\t\troiManager(\"Select\", i);\n",
    "\t\trun(\"Measure\");\t\n",
    "\t}\n",
    "    array1 = newArray(\"0\");\n",
    "    for (i=1;i<roiManager(\"count\");i++){\n",
    "    array1 = Array.concat(array1,i);\n",
    "    }\n",
    "\troiManager(\"select\", array1);\n",
    "    roiManager(\"Delete\");\n",
    "    close(\"*\");    \n",
    "    \"\"\"\n",
    "        ij.py.run_macro(Measure)\n",
    "\n",
    "    measurements = ij.ResultsTable.getResultsTable()\n",
    "    measurements_table = ij.convert().convert(measurements, scyjava.jimport('org.scijava.table.Table'))\n",
    "    table = ij.py.from_java(measurements_table)\n",
    "    results = os.path.basename(folder_path)\n",
    "    results = os.path.splitext(results)[0]\n",
    "    output_path = Path(f\"{folder_path}/{results}.csv\")\n",
    "    table.to_csv(output_path)\n",
    "\n",
    "    ij.py.run_macro(\"\"\"\n",
    "selectWindow(\"Results\");\n",
    "run(\"Clear Results\");\n",
    "\"\"\")\n",
    "\n"
   ]
  }
 ],
 "metadata": {
  "kernelspec": {
   "display_name": "Python 3 (ipykernel)",
   "language": "python",
   "name": "python3"
  },
  "language_info": {
   "codemirror_mode": {
    "name": "ipython",
    "version": 3
   },
   "file_extension": ".py",
   "mimetype": "text/x-python",
   "name": "python",
   "nbconvert_exporter": "python",
   "pygments_lexer": "ipython3",
   "version": "3.10.12"
  }
 },
 "nbformat": 4,
 "nbformat_minor": 5
}
