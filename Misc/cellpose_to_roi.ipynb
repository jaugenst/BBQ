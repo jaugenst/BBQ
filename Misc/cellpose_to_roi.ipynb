{
 "cells": [
  {
   "cell_type": "code",
   "execution_count": 1,
   "id": "74c96ec4-6bdc-434d-8853-0017753fb45f",
   "metadata": {
    "tags": []
   },
   "outputs": [],
   "source": [
    "from cellpose import models, io\n",
    "from cellpose.io import *\n",
    "from collections import defaultdict\n",
    "import geopandas\n",
    "import glob\n",
    "import imagej\n",
    "from jpype import JArray, JInt\n",
    "import matplotlib.pyplot as plt\n",
    "import multiprocessing as mp\n",
    "import numpy as np\n",
    "import os\n",
    "import re\n",
    "import pandas\n",
    "from pandas import DataFrame\n",
    "from pathlib import Path\n",
    "import scyjava\n",
    "import seaborn\n",
    "import shutil\n",
    "import tkinter as tk\n",
    "from tkinter import filedialog\n",
    "from PIL import Image"
   ]
  },
  {
   "cell_type": "code",
   "execution_count": 2,
   "id": "9fb0d30c-c249-41da-8d3c-27b0ac5d2271",
   "metadata": {
    "tags": []
   },
   "outputs": [
    {
     "data": {
      "text/plain": [
       "'2.9.0/1.54e'"
      ]
     },
     "execution_count": 2,
     "metadata": {},
     "output_type": "execute_result"
    },
    {
     "name": "stdout",
     "output_type": "stream",
     "text": [
      "X\n",
      "Y\n",
      "Z\n",
      "X\n",
      "Y\n",
      "Z\n",
      "X\n",
      "Y\n",
      "Z\n"
     ]
    }
   ],
   "source": [
    "scyjava.config.add_option('-Xmx30g')\n",
    "start_dir = os.getcwd()\n",
    "#ij = imagej.init('sc.fiji:fiji', mode='interactive')\n",
    "ij = imagej.init('/home/saka/sw/local/fiji/2023', mode='interactive')\n",
    "## Something about this init() function changes the current working directory.\n",
    "ij.getApp().getInfo(True)\n",
    "ij.ui().showUI()\n",
    "os.chdir(start_dir)\n",
    "ij.getVersion() #This is to make sure ImageJ/Fiji opened properly. In case of error, it could display '2.9.0/inactive' instead of the full version number"
   ]
  },
  {
   "cell_type": "code",
   "execution_count": 3,
   "id": "0d3d98e4-f7cf-4b64-b7a4-e911feac5b7e",
   "metadata": {
    "tags": []
   },
   "outputs": [],
   "source": [
    "showPolygonRoi = scyjava.jimport('ij.gui.PolygonRoi')\n",
    "Overlay = scyjava.jimport('ij.gui.Overlay')\n",
    "Regions = scyjava.jimport('net.imglib2.roi.Regions')\n",
    "LabelRegions = scyjava.jimport('net.imglib2.roi.labeling.LabelRegions')\n",
    "ZProjector = scyjava.jimport('ij.plugin.ZProjector')()\n",
    "ov = Overlay()"
   ]
  },
  {
   "cell_type": "code",
   "execution_count": 4,
   "id": "6a44b2b7-b0b4-417b-971c-70a4665170af",
   "metadata": {
    "tags": []
   },
   "outputs": [],
   "source": [
    "Overlay = scyjava.jimport('ij.gui.Overlay')\n",
    "ov = Overlay()\n",
    "rm = ij.RoiManager.getRoiManager()"
   ]
  },
  {
   "cell_type": "code",
   "execution_count": 3,
   "id": "6016adc4-0628-4970-ac40-b1dd84a1245d",
   "metadata": {},
   "outputs": [],
   "source": [
    "directory_path = '/home/saka/Documents/Lab stuff/confocal/exp2'\n",
    "#directory_path = '/home/saka/Documents/Zhihui/timelapse/images'\n",
    "os.chdir(directory_path)"
   ]
  },
  {
   "cell_type": "code",
   "execution_count": 6,
   "id": "d68fa65d-9aee-46ec-bfae-96cc4ba03519",
   "metadata": {
    "tags": []
   },
   "outputs": [],
   "source": [
    "root = tk.Tk()\n",
    "root.withdraw()\n",
    "filepath = filedialog.askopenfilename()"
   ]
  },
  {
   "cell_type": "code",
   "execution_count": 31,
   "id": "17c966d3-f9db-4d3d-8384-1604a1d0bd03",
   "metadata": {
    "tags": []
   },
   "outputs": [],
   "source": [
    "image = ij.io().open(filepath)\n",
    "#ij.ui().show(image)\n",
    "imp = ij.py.to_imageplus(image)"
   ]
  },
  {
   "cell_type": "code",
   "execution_count": 32,
   "id": "132e026a-e657-4899-acce-8b60e621c121",
   "metadata": {},
   "outputs": [],
   "source": [
    "ij.ui().show(imp)"
   ]
  },
  {
   "cell_type": "code",
   "execution_count": null,
   "id": "8769d610-da9f-45a7-913e-f853d2622500",
   "metadata": {},
   "outputs": [],
   "source": [
    "\n",
    "\n",
    "#wanted_channel = 2\n",
    "#blue_channel = image[:, :, wanted_channel,:,:]\n",
    "#imp = ij.py.to_imageplus(blue_channel)\n",
    "\n"
   ]
  },
  {
   "cell_type": "code",
   "execution_count": 9,
   "id": "350b3045-40fc-4f8b-a278-375420b93270",
   "metadata": {},
   "outputs": [],
   "source": [
    "wanted_channel = 3\n",
    "channel = image[:, :, wanted_channel, :, :]\n",
    "imp = ij.py.to_imageplus(channel)\n",
    "imp.setDimensions(1, 11, 121)\n",
    "#ij.ui().show(imp)\n",
    "ZProjector = scyjava.jimport(\"ij.plugin.ZProjector\")()\n",
    "method = 'sum all'\n",
    "z_projector_result = ZProjector.run(imp, method)\n",
    "z_collapsed_image = ij.py.from_java(z_projector_result)\n",
    "z_collapsed_dataset = ij.py.to_dataset(z_collapsed_image)\n",
    "ij.ui().show(z_collapsed_dataset)"
   ]
  },
  {
   "cell_type": "code",
   "execution_count": 20,
   "id": "45f0cca7-7e6c-4124-ba5b-53b3b841ea1e",
   "metadata": {},
   "outputs": [],
   "source": [
    "data_info = {}\n",
    "for element in range(len(imp.dims)):\n",
    "    name = imp.dims[element]\n",
    "    data_info[name] = imp.shape[element]\n",
    "    print(name)\n",
    "num_frame = data_info['Z']"
   ]
  },
  {
   "cell_type": "code",
   "execution_count": 36,
   "id": "ff182e25-0201-43f4-bf92-55f349439e58",
   "metadata": {},
   "outputs": [
    {
     "data": {
      "text/plain": [
       "True"
      ]
     },
     "execution_count": 36,
     "metadata": {},
     "output_type": "execute_result"
    }
   ],
   "source": [
    "file_prefix = \"Image_T\"\n",
    "for timepoint in range(1, num_frame + 1):\n",
    "    frame_number = f\"{timepoint:04d}\"\n",
    "    #input_txt = Path(f\"{directory_path}/txt_outlines/Experiment-1647-Split Scenes-01_z2/cellpose/frame_{frame_number}_cp_outlines.txt\")\n",
    "    input_txt = Path(f\"{directory_path}/txt_outlines/{file_prefix}{frame_number}_Overlay_cp_outlines.txt\")\n",
    "    txt_fh = open(input_txt, 'r')\n",
    "    for line in txt_fh:\n",
    "            xy = line.rstrip().split(\",\")\n",
    "            xy_coords = [int(element) for element in xy if element not in '']\n",
    "            x_coords = [int(element) for element in xy[::2] if element not in '']\n",
    "            y_coords = [int(element) for element in xy[1::2] if element not in '']\n",
    "            xcoords_jint = JArray(JInt)(x_coords)\n",
    "            ycoords_jint = JArray(JInt)(y_coords)\n",
    "            polygon_roi_instance = scyjava.jimport('ij.gui.PolygonRoi')\n",
    "            roi_instance = scyjava.jimport('ij.gui.Roi')\n",
    "            imported_polygon = polygon_roi_instance(xcoords_jint, ycoords_jint, len(x_coords), int(roi_instance.POLYGON))\n",
    "            imp.setRoi(imported_polygon)\n",
    "            rm.addRoi(imported_polygon)\n",
    "            roi_count = rm.getCount()\n",
    "            rm.select(roi_count - 1)\n",
    "            time_set = imp.setZ(timepoint)   \n",
    "            rm.runCommand('Update')\n",
    "ij.py.run_macro(\"roiManager('Select All');\")\n",
    "f_name = os.path.basename(filepath)\n",
    "f_name = os.path.splitext(f_name)[0]\n",
    "rm.runCommand(\"Save\", f\"{directory_path}/\" + f\"{f_name}.zip\")"
   ]
  },
  {
   "cell_type": "code",
   "execution_count": null,
   "id": "711292fa-d4b0-4868-861f-7e96fda63321",
   "metadata": {},
   "outputs": [],
   "source": [
    "ij.ui().show(image)"
   ]
  },
  {
   "cell_type": "code",
   "execution_count": 4,
   "id": "59ea6291-6cb1-4683-8911-ff3cf3612c0f",
   "metadata": {},
   "outputs": [],
   "source": [
    "file_path = Path(f\"{directory_path}/results_bacteria.csv\")\n",
    "df = pandas.read_csv(file_path)\n",
    "#df = pandas.read_csv(dataset)\n"
   ]
  },
  {
   "cell_type": "code",
   "execution_count": 5,
   "id": "0329108d-7993-4f3c-b3a9-deaf24e0574c",
   "metadata": {},
   "outputs": [
    {
     "ename": "SyntaxError",
     "evalue": "invalid syntax (4029938479.py, line 3)",
     "output_type": "error",
     "traceback": [
      "\u001b[0;31m---------------------------------------------------------------------------\u001b[0m",
      "\u001b[0;31mSyntaxError\u001b[0m                               Traceback (most recent call last)",
      "File \u001b[0;32m~/sw/local/fiji/2023/lib/python3.10/site-packages/IPython/core/compilerop.py:86\u001b[0m, in \u001b[0;36mCachingCompiler.ast_parse\u001b[0;34m(self, source, filename, symbol)\u001b[0m\n\u001b[1;32m     81\u001b[0m \u001b[38;5;28;01mdef\u001b[39;00m \u001b[38;5;21mast_parse\u001b[39m(\u001b[38;5;28mself\u001b[39m, source, filename\u001b[38;5;241m=\u001b[39m\u001b[38;5;124m'\u001b[39m\u001b[38;5;124m<unknown>\u001b[39m\u001b[38;5;124m'\u001b[39m, symbol\u001b[38;5;241m=\u001b[39m\u001b[38;5;124m'\u001b[39m\u001b[38;5;124mexec\u001b[39m\u001b[38;5;124m'\u001b[39m):\n\u001b[1;32m     82\u001b[0m \u001b[38;5;250m    \u001b[39m\u001b[38;5;124;03m\"\"\"Parse code to an AST with the current compiler flags active.\u001b[39;00m\n\u001b[1;32m     83\u001b[0m \n\u001b[1;32m     84\u001b[0m \u001b[38;5;124;03m    Arguments are exactly the same as ast.parse (in the standard library),\u001b[39;00m\n\u001b[1;32m     85\u001b[0m \u001b[38;5;124;03m    and are passed to the built-in compile function.\"\"\"\u001b[39;00m\n\u001b[0;32m---> 86\u001b[0m     \u001b[38;5;28;01mreturn\u001b[39;00m \u001b[38;5;28;43mcompile\u001b[39;49m\u001b[43m(\u001b[49m\u001b[43msource\u001b[49m\u001b[43m,\u001b[49m\u001b[43m \u001b[49m\u001b[43mfilename\u001b[49m\u001b[43m,\u001b[49m\u001b[43m \u001b[49m\u001b[43msymbol\u001b[49m\u001b[43m,\u001b[49m\u001b[43m \u001b[49m\u001b[38;5;28;43mself\u001b[39;49m\u001b[38;5;241;43m.\u001b[39;49m\u001b[43mflags\u001b[49m\u001b[43m \u001b[49m\u001b[38;5;241;43m|\u001b[39;49m\u001b[43m \u001b[49m\u001b[43mPyCF_ONLY_AST\u001b[49m\u001b[43m,\u001b[49m\u001b[43m \u001b[49m\u001b[38;5;241;43m1\u001b[39;49m\u001b[43m)\u001b[49m\n",
      "\u001b[0;31mSyntaxError\u001b[0m: invalid syntax (4029938479.py, line 3)"
     ]
    }
   ],
   "source": [
    "selected_column = df.iloc[:, 1]\n",
    "new_column_name = \"ROI_ID\"\n",
    "df = df.rename(columns = selected_column : new_column_name)"
   ]
  },
  {
   "cell_type": "code",
   "execution_count": 26,
   "id": "77f04830-f931-40f6-a5f3-dcf94ca2c489",
   "metadata": {},
   "outputs": [
    {
     "data": {
      "text/plain": [
       "0      3.492\n",
       "1      2.344\n",
       "2      1.736\n",
       "3      0.530\n",
       "4      2.619\n",
       "       ...  \n",
       "634    0.118\n",
       "635    0.069\n",
       "636    1.246\n",
       "637    0.137\n",
       "638    0.726\n",
       "Name: ROI_ID, Length: 639, dtype: float64"
      ]
     },
     "execution_count": 26,
     "metadata": {},
     "output_type": "execute_result"
    }
   ],
   "source": [
    "selected_column = df.iloc[:, 1]\n",
    "selected_column.rename(new_column_name)"
   ]
  },
  {
   "cell_type": "code",
   "execution_count": 22,
   "id": "eebc27e8-1966-415b-a309-9c9f66de204c",
   "metadata": {},
   "outputs": [
    {
     "data": {
      "text/html": [
       "<div>\n",
       "<style scoped>\n",
       "    .dataframe tbody tr th:only-of-type {\n",
       "        vertical-align: middle;\n",
       "    }\n",
       "\n",
       "    .dataframe tbody tr th {\n",
       "        vertical-align: top;\n",
       "    }\n",
       "\n",
       "    .dataframe thead th {\n",
       "        text-align: right;\n",
       "    }\n",
       "</style>\n",
       "<table border=\"1\" class=\"dataframe\">\n",
       "  <thead>\n",
       "    <tr style=\"text-align: right;\">\n",
       "      <th></th>\n",
       "      <th></th>\n",
       "      <th>Area</th>\n",
       "      <th>Mean</th>\n",
       "      <th>Min</th>\n",
       "      <th>Max</th>\n",
       "      <th>X</th>\n",
       "      <th>Y</th>\n",
       "      <th>IntDen</th>\n",
       "      <th>Median</th>\n",
       "      <th>Skew</th>\n",
       "      <th>Kurt</th>\n",
       "      <th>RawIntDen</th>\n",
       "      <th>Slice</th>\n",
       "      <th>Frame</th>\n",
       "    </tr>\n",
       "  </thead>\n",
       "  <tbody>\n",
       "    <tr>\n",
       "      <th>0</th>\n",
       "      <td>1</td>\n",
       "      <td>3.492</td>\n",
       "      <td>255</td>\n",
       "      <td>255</td>\n",
       "      <td>255</td>\n",
       "      <td>18.828</td>\n",
       "      <td>14.062</td>\n",
       "      <td>890.379</td>\n",
       "      <td>255</td>\n",
       "      <td>NaN</td>\n",
       "      <td>NaN</td>\n",
       "      <td>90780</td>\n",
       "      <td>1</td>\n",
       "      <td>2</td>\n",
       "    </tr>\n",
       "    <tr>\n",
       "      <th>1</th>\n",
       "      <td>2</td>\n",
       "      <td>2.344</td>\n",
       "      <td>255</td>\n",
       "      <td>255</td>\n",
       "      <td>255</td>\n",
       "      <td>18.652</td>\n",
       "      <td>14.875</td>\n",
       "      <td>597.755</td>\n",
       "      <td>255</td>\n",
       "      <td>NaN</td>\n",
       "      <td>NaN</td>\n",
       "      <td>60945</td>\n",
       "      <td>2</td>\n",
       "      <td>2</td>\n",
       "    </tr>\n",
       "    <tr>\n",
       "      <th>2</th>\n",
       "      <td>3</td>\n",
       "      <td>1.736</td>\n",
       "      <td>255</td>\n",
       "      <td>255</td>\n",
       "      <td>255</td>\n",
       "      <td>18.640</td>\n",
       "      <td>15.192</td>\n",
       "      <td>442.689</td>\n",
       "      <td>255</td>\n",
       "      <td>NaN</td>\n",
       "      <td>NaN</td>\n",
       "      <td>45135</td>\n",
       "      <td>3</td>\n",
       "      <td>2</td>\n",
       "    </tr>\n",
       "    <tr>\n",
       "      <th>3</th>\n",
       "      <td>4</td>\n",
       "      <td>0.530</td>\n",
       "      <td>255</td>\n",
       "      <td>255</td>\n",
       "      <td>255</td>\n",
       "      <td>17.707</td>\n",
       "      <td>17.084</td>\n",
       "      <td>135.058</td>\n",
       "      <td>255</td>\n",
       "      <td>NaN</td>\n",
       "      <td>NaN</td>\n",
       "      <td>13770</td>\n",
       "      <td>3</td>\n",
       "      <td>3</td>\n",
       "    </tr>\n",
       "    <tr>\n",
       "      <th>4</th>\n",
       "      <td>5</td>\n",
       "      <td>2.619</td>\n",
       "      <td>255</td>\n",
       "      <td>255</td>\n",
       "      <td>255</td>\n",
       "      <td>17.929</td>\n",
       "      <td>16.364</td>\n",
       "      <td>667.784</td>\n",
       "      <td>255</td>\n",
       "      <td>NaN</td>\n",
       "      <td>NaN</td>\n",
       "      <td>68085</td>\n",
       "      <td>4</td>\n",
       "      <td>3</td>\n",
       "    </tr>\n",
       "  </tbody>\n",
       "</table>\n",
       "</div>"
      ],
      "text/plain": [
       "       Area  Mean  Min  Max       X       Y   IntDen  Median  Skew  Kurt  \\\n",
       "0  1  3.492   255  255  255  18.828  14.062  890.379     255   NaN   NaN   \n",
       "1  2  2.344   255  255  255  18.652  14.875  597.755     255   NaN   NaN   \n",
       "2  3  1.736   255  255  255  18.640  15.192  442.689     255   NaN   NaN   \n",
       "3  4  0.530   255  255  255  17.707  17.084  135.058     255   NaN   NaN   \n",
       "4  5  2.619   255  255  255  17.929  16.364  667.784     255   NaN   NaN   \n",
       "\n",
       "   RawIntDen  Slice  Frame  \n",
       "0      90780      1      2  \n",
       "1      60945      2      2  \n",
       "2      45135      3      2  \n",
       "3      13770      3      3  \n",
       "4      68085      4      3  "
      ]
     },
     "execution_count": 22,
     "metadata": {},
     "output_type": "execute_result"
    }
   ],
   "source": [
    "df.head()"
   ]
  },
  {
   "cell_type": "code",
   "execution_count": 30,
   "id": "fcfe6874-61c7-405f-b3ad-41a3b1de767d",
   "metadata": {},
   "outputs": [],
   "source": [
    "x_column='X'\n",
    "y_column='Y'\n",
    "z_column='Slice'\n",
    "gdf = geopandas.GeoDataFrame(\n",
    "        df, geometry=geopandas.points_from_xy(df[x_column], df[y_column], df[z_column]))"
   ]
  },
  {
   "cell_type": "code",
   "execution_count": 31,
   "id": "e634575c-3e6c-4aea-9784-2b1843c9f1f8",
   "metadata": {},
   "outputs": [],
   "source": [
    "final_time = gdf.Frame.max()"
   ]
  },
  {
   "cell_type": "code",
   "execution_count": null,
   "id": "7e7f2d74-a191-4b06-9cd1-829a2aed7aa0",
   "metadata": {},
   "outputs": [],
   "source": [
    "pairwise_distances = []\n",
    "    for start_time in range(0, final_time):\n",
    "        i = start_time\n",
    "        j = i + 1\n",
    "        ti_idx = gdf.Frame == i\n",
    "        tj_idx = gdf.Frame == j"
   ]
  }
 ],
 "metadata": {
  "kernelspec": {
   "display_name": "Python 3 (ipykernel)",
   "language": "python",
   "name": "python3"
  },
  "language_info": {
   "codemirror_mode": {
    "name": "ipython",
    "version": 3
   },
   "file_extension": ".py",
   "mimetype": "text/x-python",
   "name": "python",
   "nbconvert_exporter": "python",
   "pygments_lexer": "ipython3",
   "version": "3.10.12"
  }
 },
 "nbformat": 4,
 "nbformat_minor": 5
}
