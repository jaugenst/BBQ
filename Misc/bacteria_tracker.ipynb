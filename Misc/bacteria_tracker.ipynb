{
 "cells": [
  {
   "cell_type": "code",
   "execution_count": 14,
   "id": "1974433c-e11b-45d5-a7d6-7bebee715d16",
   "metadata": {},
   "outputs": [],
   "source": [
    "first = '/home/saka/Documents/Lab stuff/confocal/exp2/results_bacteria.csv'\n",
    "second = '/home/saka/Documents/Lab stuff/confocal/exp2/exporttracks-1.csv'"
   ]
  },
  {
   "cell_type": "code",
   "execution_count": null,
   "id": "e4457f0d-90bb-4001-badd-0a565bad5487",
   "metadata": {},
   "outputs": [],
   "source": [
    "import matplotlib.pyplot as plt\n",
    "pairwise = xref_locations('/home/saka/Documents/Lab stuff/confocal/exp2/results_bacteria.csv',\n",
    "                          '/home/saka/Documents/Lab stuff/confocal/exp2/exporttracks-1.csv',\n",
    "                          first_x='X', first_y='Y', first_z='Slice',\n",
    "                          second_x='POSITION_X', second_y='POSITION_Y',\n",
    "                          second_z='POSITION_Z', verbose=False)\n",
    "pairwise.head()\n",
    "pairwise.shape\n",
    "area_box = pairwise.boxplot(column='Area')\n",
    "area_box.plot()\n",
    "plt.show()"
   ]
  },
  {
   "cell_type": "code",
   "execution_count": 2,
   "id": "405f384f-0387-4b54-9c3e-d35ec35f58ba",
   "metadata": {},
   "outputs": [],
   "source": [
    "import pandas\n",
    "import geopandas\n",
    "from math import isnan\n",
    "\n",
    "def xref_locations(first, second, first_x='X', first_y='Y', first_z='Slice',\n",
    "                   second_x='POSITION_X', second_y='POSITION_Y', second_z='POSITION_Z',\n",
    "                   max_dist=10, verbose=False):\n",
    "    pairwise_elements = pandas.DataFrame()\n",
    "    first_measurements = pandas.read_csv(first)\n",
    "    second_measurements = pandas.read_csv(second)\n",
    "    \n",
    "    # Convert columns to numeric values\n",
    "    first_measurements[first_x] = pandas.to_numeric(first_measurements[first_x], errors='coerce')\n",
    "    first_measurements[first_y] = pandas.to_numeric(first_measurements[first_y], errors='coerce')\n",
    "    first_measurements[first_z] = pandas.to_numeric(first_measurements[first_z], errors='coerce')\n",
    "    \n",
    "    second_measurements[second_x] = pandas.to_numeric(second_measurements[second_x], errors='coerce')\n",
    "    second_measurements[second_y] = pandas.to_numeric(second_measurements[second_y], errors='coerce')\n",
    "    second_measurements[second_z] = pandas.to_numeric(second_measurements[second_z], errors='coerce')\n",
    "\n",
    "    first_gdf = geopandas.GeoDataFrame(\n",
    "        first_measurements,\n",
    "        geometry=geopandas.points_from_xy(first_measurements[first_x],\n",
    "                                    first_measurements[first_y],\n",
    "                                    first_measurements[first_z]))\n",
    "    second_gdf = geopandas.GeoDataFrame(\n",
    "        second_measurements,\n",
    "        geometry=geopandas.points_from_xy(second_measurements[second_x],\n",
    "                                    second_measurements[second_y],\n",
    "                                    second_measurements[second_z]))\n",
    "    ti_rows = first_gdf.shape[0]\n",
    "    tj_rows = second_gdf.shape[0]\n",
    "    for ti_row in range(0, ti_rows):\n",
    "        if verbose:\n",
    "            print(f\"On row: {ti_row}\")\n",
    "        ti_element = first_gdf.iloc[[ti_row, ]]\n",
    "        titj = geopandas.sjoin_nearest(ti_element, second_gdf,\n",
    "                                 distance_col=\"pairwise_dist\",\n",
    "                                 max_distance=max_dist)\n",
    "        chosen_closest_dist = titj.pairwise_dist.min()\n",
    "        if (isnan(chosen_closest_dist)):\n",
    "            print(f\"This element has no neighbor within {max_dist}.\")\n",
    "        else:\n",
    "            chosen_closest_cell = titj.pairwise_dist == chosen_closest_dist\n",
    "            chosen_closest_row = titj[chosen_closest_cell]\n",
    "            pairwise_tmp = pandas.concat([pairwise_elements, chosen_closest_row])\n",
    "            pairwise_elements = pairwise_tmp\n",
    "    return pairwise_elements\n",
    "\n",
    "\n"
   ]
  },
  {
   "cell_type": "code",
   "execution_count": 5,
   "id": "79f821e6-de77-4b24-ac55-ffaee4a6a2f9",
   "metadata": {},
   "outputs": [
    {
     "data": {
      "image/png": "[encoded data removed]",
      "text/plain": [
       "<Figure size 640x480 with 1 Axes>"
      ]
     },
     "metadata": {},
     "output_type": "display_data"
    }
   ],
   "source": [
    "import matplotlib.pyplot as plt\n",
    "# Define your input CSV file paths\n",
    "first_csv_path = '/home/saka/Documents/Lab stuff/confocal/exp2/results_bacteria.csv'\n",
    "second_csv_path = '/home/saka/Documents/Lab stuff/confocal/exp2/exporttracks-1.csv'\n",
    "\n",
    "# Call the xref_locations function\n",
    "pairwise = xref_locations(first=first_csv_path,\n",
    "                        second=second_csv_path,\n",
    "                        first_x='X', first_y='Y', first_z='Slice',\n",
    "                        second_x='POSITION_X', second_y='POSITION_Y', second_z='POSITION_Z',\n",
    "                        max_dist=10, verbose=False)\n",
    "\n",
    "# Display the resulting pairwise_elements DataFrame\n",
    "#print(result)\n",
    "pairwise.head()\n",
    "pairwise.shape\n",
    "area_box = pairwise.boxplot(column='Area')\n",
    "area_box.plot()\n",
    "plt.show()"
   ]
  },
  {
   "cell_type": "code",
   "execution_count": null,
   "id": "5a4f8050-a76b-4fda-b3c4-7e892b2aaf63",
   "metadata": {},
   "outputs": [],
   "source": []
  },
  {
   "cell_type": "code",
   "execution_count": null,
   "id": "8afbe8f4-501a-4a3c-a68f-672dc9e28c2c",
   "metadata": {},
   "outputs": [],
   "source": []
  }
 ],
 "metadata": {
  "kernelspec": {
   "display_name": "Python 3 (ipykernel)",
   "language": "python",
   "name": "python3"
  },
  "language_info": {
   "codemirror_mode": {
    "name": "ipython",
    "version": 3
   },
   "file_extension": ".py",
   "mimetype": "text/x-python",
   "name": "python",
   "nbconvert_exporter": "python",
   "pygments_lexer": "ipython3",
   "version": "3.10.12"
  }
 },
 "nbformat": 4,
 "nbformat_minor": 5
}
